{
 "cells": [
  {
   "cell_type": "markdown",
   "id": "0651603e-a920-45a0-b73b-d6c54731eadd",
   "metadata": {},
   "source": [
    "<img title=\"a title\" alt=\"Alt text\" src=\"Python-logo.png\">"
   ]
  },
  {
   "cell_type": "code",
   "execution_count": null,
   "id": "6852602d-8efb-49f5-8c65-5b5e443d1ca8",
   "metadata": {},
   "outputs": [],
   "source": [
    "public class HelloWorld {public static void main(String[] args) {System.out.println(\"Hello, World!\");\n",
    "    }\n",
    "}"
   ]
  },
  {
   "cell_type": "code",
   "execution_count": 33,
   "id": "7581e334-289b-4426-a3e4-8ebd4b30cdc2",
   "metadata": {},
   "outputs": [],
   "source": [
    "example = list()"
   ]
  },
  {
   "cell_type": "code",
   "execution_count": 32,
   "id": "cf669e66-cdbb-4114-a6c5-1c4735490818",
   "metadata": {},
   "outputs": [
    {
     "name": "stdout",
     "output_type": "stream",
     "text": [
      "apple\n",
      "3\n",
      "1\n"
     ]
    }
   ],
   "source": [
    "fruits = ['apple', 'banana', 'cherry']\n",
    "\n",
    "# Accessing elements\n",
    "print(fruits[0])  # Output: apple\n",
    "\n",
    "# Modifying elements\n",
    "fruits[1] = 'orange'\n",
    "\n",
    "# Adding elements\n",
    "fruits.append('grape')  # Adds 'grape' at the end\n",
    "\n",
    "# Removing elements\n",
    "fruits.remove('apple')  # Removes 'apple'\n",
    "\n",
    "# List methods\n",
    "print(len(fruits))        # Output: 3\n",
    "print(fruits.index('cherry'))  # Output: 1"
   ]
  },
  {
   "cell_type": "code",
   "execution_count": 44,
   "id": "5ec10677-9857-4f6c-9e83-7d8d1f61d870",
   "metadata": {},
   "outputs": [],
   "source": [
    "a_list = [1, 3, 'a', 'b', [1, 3, [1,2,4]]]"
   ]
  },
  {
   "cell_type": "code",
   "execution_count": 45,
   "id": "38042871-c404-415b-816a-ce1aa771179f",
   "metadata": {},
   "outputs": [
    {
     "data": {
      "text/plain": [
       "[1, 2, 4]"
      ]
     },
     "execution_count": 45,
     "metadata": {},
     "output_type": "execute_result"
    }
   ],
   "source": [
    "a_list[-1][-1]"
   ]
  },
  {
   "cell_type": "code",
   "execution_count": null,
   "id": "b53a5e2b-b34c-4c5f-8f3b-200fdbe788bd",
   "metadata": {},
   "outputs": [],
   "source": []
  },
  {
   "cell_type": "markdown",
   "id": "9af905f7-82c5-47d5-a13e-fcfddccad085",
   "metadata": {},
   "source": [
    " ## Dictionaries\n",
    "\n",
    "- Definition: Dictionaries are unordered, mutable collections of key-value pairs. Keys must be unique and immutable (e.g., strings, numbers, tuples).\n",
    "- Syntax: Defined using curly braces {} with key-value pairs separated by colons."
   ]
  },
  {
   "cell_type": "code",
   "execution_count": 49,
   "id": "eeb1c1f4-fae2-4b91-a720-af190ede76d2",
   "metadata": {},
   "outputs": [
    {
     "name": "stdout",
     "output_type": "stream",
     "text": [
      "['Alice', 'Bob', 'Bob']\n",
      "dict_keys(['name', 'age', 'email'])\n",
      "dict_values([['Alice', 'Bob', 'Bob'], 26, 'alice@example.com'])\n"
     ]
    }
   ],
   "source": [
    "# Creating a dictionary\n",
    "person = {'name': ['Alice', 'Bob', 'Bob'], 'age': [24, 56, 13], 'city': 'New York'}\n",
    "\n",
    "# Accessing values\n",
    "print(person['name'])  # Output: Alice\n",
    "\n",
    "# Modifying values\n",
    "person['age'] = 26\n",
    "\n",
    "# Adding new key-value pairs\n",
    "person['email'] = 'alice@example.com'\n",
    "\n",
    "# Removing key-value pairs\n",
    "del person['city']\n",
    "\n",
    "# Dictionary methods\n",
    "print(person.keys())   # Output: dict_keys(['name', 'age', 'email'])\n",
    "print(person.values()) # Output: dict_values(['Alice', 26, 'alice@example.com'])"
   ]
  },
  {
   "cell_type": "code",
   "execution_count": null,
   "id": "3b0bad45-d9b4-49bf-a686-a6b95e11e7e3",
   "metadata": {},
   "outputs": [],
   "source": []
  },
  {
   "cell_type": "code",
   "execution_count": null,
   "id": "b06e197a-2f5f-4a28-a5a4-0f14d7221a3c",
   "metadata": {},
   "outputs": [],
   "source": []
  },
  {
   "cell_type": "markdown",
   "id": "0962f16f-430a-4cd8-a070-8a85edbfc119",
   "metadata": {},
   "source": [
    "## Tuples\n",
    "\n",
    "- Definition: Tuples are ordered, immutable collections that can hold elements of any data type.\n",
    "- Syntax: Defined using parentheses ()."
   ]
  },
  {
   "cell_type": "code",
   "execution_count": null,
   "id": "dfaa9948-d746-4dd8-97db-d545070cc529",
   "metadata": {},
   "outputs": [],
   "source": []
  },
  {
   "cell_type": "markdown",
   "id": "54d64533-1195-4142-bbaf-4a6684c8a2d7",
   "metadata": {},
   "source": [
    "# Lists are mutable"
   ]
  },
  {
   "cell_type": "code",
   "execution_count": 50,
   "id": "3ab97687-5ee0-4e8b-a445-dc2cd55e581e",
   "metadata": {},
   "outputs": [],
   "source": [
    "a = (1, 2, 3)"
   ]
  },
  {
   "cell_type": "code",
   "execution_count": 51,
   "id": "d4ee9cad-f830-4b22-8183-baae43d5c442",
   "metadata": {},
   "outputs": [
    {
     "data": {
      "text/plain": [
       "1"
      ]
     },
     "execution_count": 51,
     "metadata": {},
     "output_type": "execute_result"
    }
   ],
   "source": [
    "a[0]"
   ]
  },
  {
   "cell_type": "code",
   "execution_count": 1,
   "id": "228dd192-ee44-4f0b-a1a1-5aed36bdfe98",
   "metadata": {},
   "outputs": [],
   "source": [
    "list_a = [1, 2, 3, 4]"
   ]
  },
  {
   "cell_type": "code",
   "execution_count": 2,
   "id": "b54672e2-cfa4-400f-8f38-cd20a5c3e455",
   "metadata": {},
   "outputs": [],
   "source": [
    "list_b = list_a"
   ]
  },
  {
   "cell_type": "code",
   "execution_count": 3,
   "id": "ef4a31b4-c587-4f37-aa75-426ce03a5415",
   "metadata": {},
   "outputs": [],
   "source": [
    "list_b.append(5)"
   ]
  },
  {
   "cell_type": "code",
   "execution_count": 4,
   "id": "95f6e941-1ea2-4be7-86cf-b34502ea6a67",
   "metadata": {},
   "outputs": [
    {
     "data": {
      "text/plain": [
       "[1, 2, 3, 4, 5]"
      ]
     },
     "execution_count": 4,
     "metadata": {},
     "output_type": "execute_result"
    }
   ],
   "source": [
    "list_a"
   ]
  },
  {
   "cell_type": "markdown",
   "id": "afe2a788-01c6-414d-a811-e0c91ce097ba",
   "metadata": {},
   "source": [
    "# Tupples are immutable"
   ]
  },
  {
   "cell_type": "code",
   "execution_count": null,
   "id": "f0582b12-5524-465c-a898-2c9f51a7b5a8",
   "metadata": {},
   "outputs": [],
   "source": []
  },
  {
   "cell_type": "code",
   "execution_count": 5,
   "id": "0767399d-72c7-4b42-857b-742d7f20a083",
   "metadata": {},
   "outputs": [],
   "source": [
    "tuple_a = (1, 2, 3)"
   ]
  },
  {
   "cell_type": "code",
   "execution_count": 6,
   "id": "de6dab5a-c2a8-44ab-a30c-e613838e1d4b",
   "metadata": {},
   "outputs": [],
   "source": [
    "tuple_b = tuple_a"
   ]
  },
  {
   "cell_type": "code",
   "execution_count": 7,
   "id": "e342a90c-0b46-4571-8fe9-53e19a6635c8",
   "metadata": {},
   "outputs": [
    {
     "data": {
      "text/plain": [
       "(1, 2, 3, 4)"
      ]
     },
     "execution_count": 7,
     "metadata": {},
     "output_type": "execute_result"
    }
   ],
   "source": [
    "tuple_b + (4,)"
   ]
  },
  {
   "cell_type": "code",
   "execution_count": 8,
   "id": "1cf136dc-bf97-479d-a2cf-43279fa578ab",
   "metadata": {},
   "outputs": [
    {
     "data": {
      "text/plain": [
       "(1, 2, 3)"
      ]
     },
     "execution_count": 8,
     "metadata": {},
     "output_type": "execute_result"
    }
   ],
   "source": [
    "tuple_a"
   ]
  },
  {
   "cell_type": "code",
   "execution_count": null,
   "id": "3d2eead0-634d-4a01-81b7-9afe8a0d2590",
   "metadata": {},
   "outputs": [],
   "source": []
  },
  {
   "cell_type": "code",
   "execution_count": null,
   "id": "0a3b25e0-3d11-4f01-836e-cb256c5634f0",
   "metadata": {},
   "outputs": [],
   "source": []
  },
  {
   "cell_type": "code",
   "execution_count": 9,
   "id": "7a864d75-6288-4b32-908f-9f9038c59909",
   "metadata": {},
   "outputs": [
    {
     "name": "stdout",
     "output_type": "stream",
     "text": [
      "1 2 3 4 5\n"
     ]
    }
   ],
   "source": [
    "print(*list_a)"
   ]
  },
  {
   "cell_type": "code",
   "execution_count": null,
   "id": "745ab2de-d74a-4126-bf65-a50ad114b55c",
   "metadata": {},
   "outputs": [],
   "source": []
  },
  {
   "cell_type": "code",
   "execution_count": null,
   "id": "8e809291-194b-44f9-b254-5ebce3e2634e",
   "metadata": {},
   "outputs": [],
   "source": []
  },
  {
   "cell_type": "markdown",
   "id": "a992f750-cd68-4a48-b1fa-aa286c9da71e",
   "metadata": {},
   "source": [
    "## Sets\n",
    "\n",
    "A set is a built-in data type in Python that is used to store multiple items in a single variable. Sets are unordered, unindexed, and do not allow duplicate values.\n",
    "\n",
    "**Creating a Set**\n",
    "\n",
    "You can create a set by using curly braces {} or the set() function."
   ]
  },
  {
   "cell_type": "code",
   "execution_count": 10,
   "id": "8cb8ca61-bd94-419c-94c9-2b9766657797",
   "metadata": {},
   "outputs": [
    {
     "name": "stdout",
     "output_type": "stream",
     "text": [
      "{1, 2, 3, 4, 5}\n",
      "{1, 2, 3, 4, 5}\n"
     ]
    }
   ],
   "source": [
    "my_set = {1, 2, 3, 4, 5}\n",
    "\n",
    "# Using set() function\n",
    "another_set = set([1, 2, 3, 4, 5])\n",
    "\n",
    "print(my_set)       # Output: {1, 2, 3, 4, 5}\n",
    "print(another_set)  # Output: {1, 2, 3, 4, 5}"
   ]
  },
  {
   "cell_type": "code",
   "execution_count": 12,
   "id": "13b74256-3020-46b2-8fb3-72fea9186f40",
   "metadata": {},
   "outputs": [],
   "source": [
    "a_list_with_repeated_elements = [1, 2, 1, 'A', 'B', 'A']"
   ]
  },
  {
   "cell_type": "code",
   "execution_count": 13,
   "id": "b513b89e-fbdc-4af3-b683-52d873111964",
   "metadata": {},
   "outputs": [
    {
     "data": {
      "text/plain": [
       "{1, 2, 'A', 'B'}"
      ]
     },
     "execution_count": 13,
     "metadata": {},
     "output_type": "execute_result"
    }
   ],
   "source": [
    "set(a_list_with_repeated_elements)"
   ]
  },
  {
   "cell_type": "code",
   "execution_count": null,
   "id": "2bceb531-c996-4559-93c3-01a070ef20d2",
   "metadata": {},
   "outputs": [],
   "source": []
  },
  {
   "cell_type": "markdown",
   "id": "e30d162b-bdde-4e66-b491-bb675c9020ea",
   "metadata": {},
   "source": [
    "**Characteristics of Sets**\n",
    "\n",
    "\t1.\tUnordered: The items in a set do not have a defined order.\n",
    "\t2.\tUnindexed: You cannot access set items by index.\n",
    "\t3.\tNo Duplicates: Sets automatically remove duplicate values."
   ]
  },
  {
   "cell_type": "markdown",
   "id": "da983c4e-9643-4c56-9718-7f7faa57e76e",
   "metadata": {},
   "source": [
    "## Basic Set Operations\n",
    "\n"
   ]
  },
  {
   "cell_type": "code",
   "execution_count": 14,
   "id": "8a8116c7-2758-4e0b-be92-65b2c2a027bf",
   "metadata": {},
   "outputs": [
    {
     "name": "stdout",
     "output_type": "stream",
     "text": [
      "{1, 2, 3, 4}\n"
     ]
    }
   ],
   "source": [
    "my_set = {1, 2, 3}\n",
    "my_set.add(4)\n",
    "print(my_set)  # Output: {1, 2, 3, 4}"
   ]
  },
  {
   "cell_type": "code",
   "execution_count": 16,
   "id": "c1180e91-97f4-407a-b9e1-b5e2647a5a61",
   "metadata": {},
   "outputs": [
    {
     "name": "stdout",
     "output_type": "stream",
     "text": [
      "{1, 2, 3}\n"
     ]
    }
   ],
   "source": [
    "my_set = {1, 2, 3, 4}\n",
    "my_set.remove(4)   # Raises an error if 4 is not found\n",
    "my_set.discard(5)  # Does not raise an error if 3 is not found\n",
    "print(my_set)      # Output: {1, 2}"
   ]
  },
  {
   "cell_type": "code",
   "execution_count": null,
   "id": "3ecbc023-e684-40b4-893c-40a30901be9c",
   "metadata": {},
   "outputs": [],
   "source": [
    "# Checking Membership\n"
   ]
  },
  {
   "cell_type": "code",
   "execution_count": 17,
   "id": "24f049e4-a236-4580-9287-8e36f4976669",
   "metadata": {},
   "outputs": [
    {
     "name": "stdout",
     "output_type": "stream",
     "text": [
      "True\n",
      "False\n"
     ]
    }
   ],
   "source": [
    "my_set = {1, 2, 3}\n",
    "print(1 in my_set)  # Output: True\n",
    "print(5 in my_set)  # Output: False"
   ]
  },
  {
   "cell_type": "code",
   "execution_count": 18,
   "id": "9fab611d-7373-46e2-aaf6-29b892cfa5d3",
   "metadata": {},
   "outputs": [
    {
     "data": {
      "text/plain": [
       "True"
      ]
     },
     "execution_count": 18,
     "metadata": {},
     "output_type": "execute_result"
    }
   ],
   "source": [
    "1 in [1, 2, 4, 5]"
   ]
  },
  {
   "cell_type": "code",
   "execution_count": null,
   "id": "c1e2915f-fbc4-4d31-bb6e-3d4c6a03bf57",
   "metadata": {},
   "outputs": [],
   "source": []
  },
  {
   "cell_type": "code",
   "execution_count": 19,
   "id": "fbb91bea-3800-49ee-b0ea-535000136e95",
   "metadata": {},
   "outputs": [
    {
     "data": {
      "text/plain": [
       "True"
      ]
     },
     "execution_count": 19,
     "metadata": {},
     "output_type": "execute_result"
    }
   ],
   "source": [
    "1 in {1:'A', 2:'B'}.keys()"
   ]
  },
  {
   "cell_type": "markdown",
   "id": "8dd579db-28a7-4582-a705-ab94c8885f0e",
   "metadata": {},
   "source": [
    "## Set Operations\n",
    "\n",
    "**Union**\n",
    "\n",
    "The union of two sets is a set containing all elements from both sets. You can use the | operator or the union() method."
   ]
  },
  {
   "cell_type": "code",
   "execution_count": 20,
   "id": "d22727dc-89f0-41dc-8225-f66e2b2125c8",
   "metadata": {},
   "outputs": [
    {
     "name": "stdout",
     "output_type": "stream",
     "text": [
      "{1, 2, 3, 4, 5}\n"
     ]
    }
   ],
   "source": [
    "set1 = {1, 2, 3}\n",
    "set2 = {3, 4, 5}\n",
    "\n",
    "# Using | operator\n",
    "union_set = set1 | set2\n",
    "\n",
    "# Using union() method\n",
    "union_set = set1.union(set2)\n",
    "\n",
    "print(union_set)  # Output: {1, 2, 3, 4, 5}"
   ]
  },
  {
   "cell_type": "markdown",
   "id": "ccd3d7c6-b7d5-4055-8b98-bfa61f2fe713",
   "metadata": {},
   "source": [
    "**Intersection**\n",
    "\n",
    "The intersection of two sets is a set containing only the elements that are in both sets. You can use the & operator or the intersection() method."
   ]
  },
  {
   "cell_type": "code",
   "execution_count": null,
   "id": "c2746131-dade-48d5-bc21-1ab9f1c19562",
   "metadata": {},
   "outputs": [],
   "source": []
  },
  {
   "cell_type": "code",
   "execution_count": null,
   "id": "56922764-da54-45f6-b8c9-ea6a3852ea0b",
   "metadata": {},
   "outputs": [],
   "source": []
  },
  {
   "cell_type": "code",
   "execution_count": 21,
   "id": "8fd1c07a-2186-4887-8068-4f3afd90b91a",
   "metadata": {},
   "outputs": [
    {
     "name": "stdout",
     "output_type": "stream",
     "text": [
      "{3}\n"
     ]
    }
   ],
   "source": [
    "set1 = {1, 2, 3}\n",
    "set2 = {3, 4, 5}\n",
    "\n",
    "# Using & operator\n",
    "intersection_set = set1 & set2\n",
    "\n",
    "# Using intersection() method\n",
    "intersection_set = set1.intersection(set2)\n",
    "\n",
    "print(intersection_set)  # Output: {3}"
   ]
  },
  {
   "cell_type": "markdown",
   "id": "2b77001b-22fa-4997-bcd6-567f08f221e6",
   "metadata": {},
   "source": [
    "**Difference**\n",
    "\n",
    "The difference between two sets is a set containing elements that are in the first set but not in the second. You can use the - operator or the difference() method."
   ]
  },
  {
   "cell_type": "code",
   "execution_count": 22,
   "id": "3b28553d-c8a2-4f57-ad04-cbfcc94978a5",
   "metadata": {},
   "outputs": [
    {
     "name": "stdout",
     "output_type": "stream",
     "text": [
      "{1, 2}\n"
     ]
    }
   ],
   "source": [
    "set1 = {1, 2, 3}\n",
    "set2 = {3, 4, 5}\n",
    "\n",
    "# Using - operator\n",
    "difference_set = set1 - set2\n",
    "\n",
    "# Using difference() method\n",
    "difference_set = set1.difference(set2)\n",
    "\n",
    "print(difference_set)  # Output: {1, 2}"
   ]
  },
  {
   "cell_type": "code",
   "execution_count": null,
   "id": "6359bd4f-a048-4ade-847d-be2c7bb1c252",
   "metadata": {},
   "outputs": [],
   "source": []
  },
  {
   "cell_type": "code",
   "execution_count": null,
   "id": "7fde08ee-5b31-4e8c-8758-8aee77067a20",
   "metadata": {},
   "outputs": [],
   "source": []
  },
  {
   "cell_type": "code",
   "execution_count": 9,
   "id": "acf32a55-442a-48bd-8e41-a76f5036ba53",
   "metadata": {},
   "outputs": [
    {
     "name": "stdout",
     "output_type": "stream",
     "text": [
      "{3}\n"
     ]
    }
   ],
   "source": []
  },
  {
   "cell_type": "code",
   "execution_count": null,
   "id": "87a92ade-a513-4a3f-b245-5056620c0e66",
   "metadata": {},
   "outputs": [],
   "source": []
  },
  {
   "cell_type": "markdown",
   "id": "35d8fdf8-2bcc-43c8-87f8-bc005776e8d3",
   "metadata": {},
   "source": [
    "## Python Functions\n",
    "\n",
    "This tutorial covers defining and calling functions, using default and keyword arguments, working with variable-length arguments (`*args` and `**kwargs`), and lambda functions in Python.\n",
    "\n",
    "### 1. **Defining and Calling Functions**\n",
    "\n",
    "- **Defining a Function**: Use the `def` keyword followed by the function name and parentheses. Define the function body with indentation.\n",
    "\n",
    "```python\n",
    "def greet(name):\n",
    "    \"\"\"Print a greeting message.\"\"\"\n",
    "    print(f\"Hello, {name}!\")"
   ]
  },
  {
   "cell_type": "code",
   "execution_count": null,
   "id": "4e8f53c6-d386-42eb-bc2a-aeb88967f7fa",
   "metadata": {},
   "outputs": [],
   "source": []
  },
  {
   "cell_type": "code",
   "execution_count": 23,
   "id": "6ef010ab-5fcd-46e5-8785-4e2c34f03329",
   "metadata": {},
   "outputs": [],
   "source": [
    "def greeting(name):\n",
    "    print(\"Hello \" + name)"
   ]
  },
  {
   "cell_type": "code",
   "execution_count": 24,
   "id": "2a3d7978-a0b1-470b-8dae-43c91bd64f5f",
   "metadata": {},
   "outputs": [
    {
     "name": "stdout",
     "output_type": "stream",
     "text": [
      "Hello ali\n"
     ]
    }
   ],
   "source": [
    "greeting('ali')"
   ]
  },
  {
   "cell_type": "code",
   "execution_count": null,
   "id": "da0d233d-ca24-4413-ab2c-caceb7f335d0",
   "metadata": {},
   "outputs": [],
   "source": []
  },
  {
   "cell_type": "code",
   "execution_count": null,
   "id": "4e92b0a5-8431-4dd2-a235-7cb7795fd920",
   "metadata": {},
   "outputs": [],
   "source": []
  },
  {
   "cell_type": "code",
   "execution_count": null,
   "id": "b793de72-ce27-42ae-9302-ee1a062a7b69",
   "metadata": {},
   "outputs": [],
   "source": []
  },
  {
   "cell_type": "markdown",
   "id": "6aa71ad2-79f8-41dc-a174-d136885909d0",
   "metadata": {},
   "source": [
    "**Return Values:** Use the return statement to return a value from the function."
   ]
  },
  {
   "cell_type": "code",
   "execution_count": 39,
   "id": "cad68d55-0a3f-489b-88cd-820384244417",
   "metadata": {},
   "outputs": [],
   "source": [
    "def add(a, b=3, *arg):\n",
    "    return a + b\n",
    "\n",
    "result = add(3, 1)  # result is 7"
   ]
  },
  {
   "cell_type": "code",
   "execution_count": 35,
   "id": "016c4f77-8d2d-40ca-a8ab-5ce36971fed9",
   "metadata": {},
   "outputs": [
    {
     "data": {
      "text/plain": [
       "4"
      ]
     },
     "execution_count": 35,
     "metadata": {},
     "output_type": "execute_result"
    }
   ],
   "source": [
    "result"
   ]
  },
  {
   "cell_type": "code",
   "execution_count": null,
   "id": "2fbd7b46-2ede-45a8-9503-886ad8a85cea",
   "metadata": {},
   "outputs": [],
   "source": []
  },
  {
   "cell_type": "code",
   "execution_count": null,
   "id": "7ea9bc48-02d7-436a-b250-d4c885629274",
   "metadata": {},
   "outputs": [],
   "source": []
  },
  {
   "cell_type": "markdown",
   "id": "4e5697ad-c072-453b-8943-c5ec68fec89d",
   "metadata": {},
   "source": [
    "# Default and Keyword Arguments\n",
    "\n",
    "- Default Arguments: Specify default values for parameters in the function definition. If the argument is not provided when calling the function, the default value is used."
   ]
  },
  {
   "cell_type": "code",
   "execution_count": 36,
   "id": "cdff7869-ee7f-4c76-93a8-20e130e8d524",
   "metadata": {},
   "outputs": [
    {
     "name": "stdout",
     "output_type": "stream",
     "text": [
      "Hello, Bob!\n",
      "Goodbye, Bob!\n"
     ]
    }
   ],
   "source": [
    "def greet(name, message=\"Hello\"):\n",
    "    print(f\"{message}, {name}!\")\n",
    "\n",
    "greet(\"Bob\")             \n",
    "greet(\"Bob\", \"Goodbye\") "
   ]
  },
  {
   "cell_type": "code",
   "execution_count": null,
   "id": "59347cfe-bbea-4b91-b876-0e3d38ed9aca",
   "metadata": {},
   "outputs": [],
   "source": []
  },
  {
   "cell_type": "markdown",
   "id": "1e133d53-0e38-4dad-a073-9d1d5e53ffb6",
   "metadata": {},
   "source": [
    "**Keyword Arguments:** Pass arguments using the parameter names, allowing you to specify arguments in any order."
   ]
  },
  {
   "cell_type": "code",
   "execution_count": 37,
   "id": "bda166c5-347b-4046-983b-cea8061196b0",
   "metadata": {},
   "outputs": [
    {
     "name": "stdout",
     "output_type": "stream",
     "text": [
      "I have a cat named Buddy.\n"
     ]
    }
   ],
   "source": [
    "def describe_pet(animal_type, pet_name):\n",
    "    print(f\"I have a {animal_type} named {pet_name}.\")\n",
    "\n",
    "describe_pet(pet_name=\"Buddy\", animal_type=\"cat\")\n",
    "# Output: I have a dog named Buddy."
   ]
  },
  {
   "cell_type": "code",
   "execution_count": null,
   "id": "86ede38e-6165-47b7-9285-76479d0dea34",
   "metadata": {},
   "outputs": [],
   "source": []
  },
  {
   "cell_type": "code",
   "execution_count": null,
   "id": "0ea07d12-dcef-4af2-9eec-a1a2becf5215",
   "metadata": {},
   "outputs": [],
   "source": []
  },
  {
   "cell_type": "markdown",
   "id": "dcba2747-8e38-48cb-8fb4-a5ef0b11bfc1",
   "metadata": {},
   "source": [
    "## Variable-Length Arguments (*args and **kwargs)\n",
    "\n",
    "- *args (Non-Keyword Variable Arguments): Use *args to pass a variable number of arguments to a function. Inside the function, args is a tuple of arguments."
   ]
  },
  {
   "cell_type": "code",
   "execution_count": 38,
   "id": "73225fd3-cc74-4ae3-93dc-54f6a8f802a7",
   "metadata": {},
   "outputs": [
    {
     "ename": "TypeError",
     "evalue": "unsupported operand type(s) for +: 'int' and 'str'",
     "output_type": "error",
     "traceback": [
      "\u001b[0;31m---------------------------------------------------------------------------\u001b[0m",
      "\u001b[0;31mTypeError\u001b[0m                                 Traceback (most recent call last)",
      "Cell \u001b[0;32mIn[38], line 4\u001b[0m\n\u001b[1;32m      1\u001b[0m \u001b[38;5;28;01mdef\u001b[39;00m \u001b[38;5;21msum_all\u001b[39m(\u001b[38;5;241m*\u001b[39margs):\n\u001b[1;32m      2\u001b[0m     \u001b[38;5;28;01mreturn\u001b[39;00m \u001b[38;5;28msum\u001b[39m(args)\n\u001b[0;32m----> 4\u001b[0m \u001b[38;5;28mprint\u001b[39m(\u001b[43msum_all\u001b[49m\u001b[43m(\u001b[49m\u001b[38;5;241;43m1\u001b[39;49m\u001b[43m,\u001b[49m\u001b[43m \u001b[49m\u001b[38;5;124;43m'\u001b[39;49m\u001b[38;5;124;43mA\u001b[39;49m\u001b[38;5;124;43m'\u001b[39;49m\u001b[43m,\u001b[49m\u001b[43m \u001b[49m\u001b[38;5;241;43m3\u001b[39;49m\u001b[43m,\u001b[49m\u001b[43m \u001b[49m\u001b[38;5;241;43m4\u001b[39;49m\u001b[43m)\u001b[49m)  \u001b[38;5;66;03m# Output: 10\u001b[39;00m\n",
      "Cell \u001b[0;32mIn[38], line 2\u001b[0m, in \u001b[0;36msum_all\u001b[0;34m(*args)\u001b[0m\n\u001b[1;32m      1\u001b[0m \u001b[38;5;28;01mdef\u001b[39;00m \u001b[38;5;21msum_all\u001b[39m(\u001b[38;5;241m*\u001b[39margs):\n\u001b[0;32m----> 2\u001b[0m     \u001b[38;5;28;01mreturn\u001b[39;00m \u001b[38;5;28;43msum\u001b[39;49m\u001b[43m(\u001b[49m\u001b[43margs\u001b[49m\u001b[43m)\u001b[49m\n",
      "\u001b[0;31mTypeError\u001b[0m: unsupported operand type(s) for +: 'int' and 'str'"
     ]
    }
   ],
   "source": [
    "def sum_all(*args):\n",
    "    return sum(args)\n",
    "\n",
    "print(sum_all(1, 'A', 3, 4))  # Output: 10"
   ]
  },
  {
   "cell_type": "code",
   "execution_count": null,
   "id": "342a709e-38ec-4173-a0d0-d74dec1d25eb",
   "metadata": {},
   "outputs": [],
   "source": []
  },
  {
   "cell_type": "code",
   "execution_count": null,
   "id": "d640fe0b-5037-430a-8c9a-b54a1869bef0",
   "metadata": {},
   "outputs": [],
   "source": []
  },
  {
   "cell_type": "code",
   "execution_count": null,
   "id": "41cdd30e-5b11-4cbf-9ddd-2b80116fdab7",
   "metadata": {},
   "outputs": [],
   "source": [
    "    "
   ]
  },
  {
   "cell_type": "code",
   "execution_count": 45,
   "id": "0a2e9392-7922-45bc-aafa-222749f555ae",
   "metadata": {},
   "outputs": [
    {
     "name": "stdout",
     "output_type": "stream",
     "text": [
      "([1, 2, 3, 4, 1],)\n"
     ]
    }
   ],
   "source": [
    "def sum_all(*args):\n",
    "    return args\n",
    "\n",
    "print(sum_all([1, 2, 3, 4, 1]))  # Output: 10"
   ]
  },
  {
   "cell_type": "code",
   "execution_count": 52,
   "id": "3771152f-4034-4156-a2d9-c07034be446e",
   "metadata": {},
   "outputs": [
    {
     "name": "stdout",
     "output_type": "stream",
     "text": [
      "1 2 4\n"
     ]
    }
   ],
   "source": []
  },
  {
   "cell_type": "markdown",
   "id": "536cc5ff-54b3-4d91-ade3-ce5cbf3b86b6",
   "metadata": {},
   "source": [
    "****kwargs** (Keyword Variable Arguments): Use **kwargs to accept a variable number of keyword arguments. Inside the function, kwargs is a dictionary of arguments."
   ]
  },
  {
   "cell_type": "code",
   "execution_count": 48,
   "id": "0186d86c-ad6b-4a9d-b0ce-4ac3a2541029",
   "metadata": {},
   "outputs": [
    {
     "name": "stdout",
     "output_type": "stream",
     "text": [
      "name: Alice\n",
      "age: 25\n",
      "city: New York\n",
      "nationality: Italy\n"
     ]
    }
   ],
   "source": [
    "def print_info(**kwargs):\n",
    "    for key, value in kwargs.items():\n",
    "        print(f\"{key}: {value}\")\n",
    "\n",
    "print_info(name=\"Alice\", age=25, city=\"New York\", nationality=\"Italy\")\n",
    "# Output:\n",
    "# name: Alice\n",
    "# age: 25\n",
    "# city: New York"
   ]
  },
  {
   "cell_type": "code",
   "execution_count": 50,
   "id": "160d3def-c444-4c6e-8dda-2976b0c5e862",
   "metadata": {},
   "outputs": [
    {
     "name": "stdout",
     "output_type": "stream",
     "text": [
      "I have 7 cats\n"
     ]
    }
   ],
   "source": [
    "a = 7\n",
    "\n",
    "print(f\"I have {a} cats\")"
   ]
  },
  {
   "cell_type": "markdown",
   "id": "7bf9d122-1d45-4d43-8d3c-b538176e050f",
   "metadata": {},
   "source": [
    "**Combining** *args and **kwargs: You can use both in the same function definition. *args must come before **kwargs."
   ]
  },
  {
   "cell_type": "code",
   "execution_count": 69,
   "id": "80146318-637d-4b91-b849-5bd9d32f9ba7",
   "metadata": {},
   "outputs": [
    {
     "name": "stdout",
     "output_type": "stream",
     "text": [
      "arg1: 10\n",
      "args: (20, 30)\n",
      "kwargs: {'name': 'Bob', 'age': 22}\n"
     ]
    }
   ],
   "source": [
    "def func_with_args_kwargs(arg1, *args, **kwargs):\n",
    "    print(f\"arg1: {arg1}\")\n",
    "    print(f\"args: {args}\")\n",
    "    print(f\"kwargs: {kwargs}\")\n",
    "\n",
    "func_with_args_kwargs(10, 20, 30, name=\"Bob\", age=22)\n",
    "# Output:\n",
    "# arg1: 10\n",
    "# args: (20, 30)\n",
    "# kwargs: {'name': 'Bob', 'age': 22}"
   ]
  },
  {
   "cell_type": "code",
   "execution_count": null,
   "id": "b7e54057-db68-426f-afb7-94d5052e7899",
   "metadata": {},
   "outputs": [],
   "source": []
  },
  {
   "cell_type": "code",
   "execution_count": null,
   "id": "4be876b0-cfb3-474f-96d0-83b06fec971d",
   "metadata": {},
   "outputs": [],
   "source": []
  },
  {
   "cell_type": "code",
   "execution_count": null,
   "id": "e9415ea0-e134-4327-a83e-8865de6b58ae",
   "metadata": {},
   "outputs": [],
   "source": []
  },
  {
   "cell_type": "markdown",
   "id": "bea3d255-6a9c-4f21-8463-8ab6af50dba0",
   "metadata": {},
   "source": [
    "## Lambda Functions\n",
    "\n",
    "Lambda Functions: Lambda functions are small, anonymous functions defined with the lambda keyword. They can take any number of arguments but have a single expression."
   ]
  },
  {
   "cell_type": "code",
   "execution_count": 72,
   "id": "df11cfdd-cd82-44a1-8484-b1a25479adac",
   "metadata": {},
   "outputs": [
    {
     "name": "stdout",
     "output_type": "stream",
     "text": [
      "8\n"
     ]
    }
   ],
   "source": [
    "# Lambda function for adding two numbers\n",
    "add = lambda x, y, a, b, c:  x + y\n",
    "print(add(5, 3))  # Output: 8"
   ]
  },
  {
   "cell_type": "code",
   "execution_count": 52,
   "id": "b1966fc7-f82a-4755-839d-86d178b44bbc",
   "metadata": {},
   "outputs": [
    {
     "data": {
      "text/plain": [
       "3"
      ]
     },
     "execution_count": 52,
     "metadata": {},
     "output_type": "execute_result"
    }
   ],
   "source": [
    "add_list = lambda x: sum(x)\n",
    "add_list([1,2])"
   ]
  },
  {
   "cell_type": "code",
   "execution_count": 84,
   "id": "36300888-361b-4919-9dda-92bcd4689676",
   "metadata": {},
   "outputs": [],
   "source": [
    "append_x = lambda x: print([ a+1 for a in x][0])"
   ]
  },
  {
   "cell_type": "code",
   "execution_count": 86,
   "id": "41989cf1-a044-402f-a688-0b3ad0accde8",
   "metadata": {},
   "outputs": [
    {
     "name": "stdout",
     "output_type": "stream",
     "text": [
      "2\n"
     ]
    }
   ],
   "source": [
    "append_x([1, 2])"
   ]
  },
  {
   "cell_type": "code",
   "execution_count": null,
   "id": "5cd40d4e-d412-48b3-931b-bacd390b38c1",
   "metadata": {},
   "outputs": [],
   "source": []
  },
  {
   "cell_type": "markdown",
   "id": "417073db-0225-4f8d-b8a5-638ef1f03f0b",
   "metadata": {},
   "source": [
    "**Use Cases:** Commonly used for short, simple functions that are passed as arguments to higher-order functions like map(), filter(), and sorted()."
   ]
  },
  {
   "cell_type": "code",
   "execution_count": 54,
   "id": "a6e10adc-f0e1-4141-99ae-c2125fe7f254",
   "metadata": {},
   "outputs": [
    {
     "name": "stdout",
     "output_type": "stream",
     "text": [
      "[(0, 0), (1, 2), (3, 1), (5, -1)]\n"
     ]
    }
   ],
   "source": [
    "# Using lambda with sorted()\n",
    "points = [(1, 2), (3, 1), (5, -1), (0, 0)]\n",
    "sorted_points = sorted(points, key=lambda p: p[0])\n",
    "print(sorted_points)  # Output: [(5, -1), (0, 0), (3, 1), (1, 2)]"
   ]
  },
  {
   "cell_type": "code",
   "execution_count": 55,
   "id": "c99fbf07-ae51-447e-80da-bd7f8963b778",
   "metadata": {},
   "outputs": [],
   "source": [
    "list_of_strings = ['B', 'A', 'a']"
   ]
  },
  {
   "cell_type": "code",
   "execution_count": 56,
   "id": "acb42184-02e9-409f-9b06-031403f86af0",
   "metadata": {},
   "outputs": [
    {
     "data": {
      "text/plain": [
       "['A', 'B', 'a']"
      ]
     },
     "execution_count": 56,
     "metadata": {},
     "output_type": "execute_result"
    }
   ],
   "source": [
    "sorted(list_of_strings)"
   ]
  },
  {
   "cell_type": "code",
   "execution_count": null,
   "id": "346087cd-7950-45bc-9168-458f820659c9",
   "metadata": {},
   "outputs": [],
   "source": []
  },
  {
   "cell_type": "code",
   "execution_count": null,
   "id": "2fb9e1ed-98d3-4eea-a29c-ee612adef5b8",
   "metadata": {},
   "outputs": [],
   "source": []
  },
  {
   "cell_type": "code",
   "execution_count": null,
   "id": "f34a264a-856b-42aa-877d-19ad26552b8c",
   "metadata": {},
   "outputs": [],
   "source": []
  },
  {
   "cell_type": "markdown",
   "id": "f6a86661-553c-478b-b704-bb4a99981e3b",
   "metadata": {},
   "source": [
    "# Introduction to Decorators in Python\n",
    "\n",
    "Decorators in Python are a powerful tool that allows you to modify the behavior of functions or methods without changing their actual code. They are widely used for logging, access control, memoization, and more.\n",
    "\n",
    "## Basic Concept\n",
    "\n",
    "A decorator is a function that wraps another function to extend or alter its behavior. The decorator itself is just a function that takes another function as an argument and returns a new function.\n",
    "\n",
    "## Creating a Simple Decorator\n",
    "\n",
    "Let's start with a basic example of a decorator:\n",
    "\n"
   ]
  },
  {
   "cell_type": "code",
   "execution_count": 10,
   "id": "7a63aed0-80b8-4545-bb8a-247e79545946",
   "metadata": {},
   "outputs": [
    {
     "name": "stdout",
     "output_type": "stream",
     "text": [
      "Before function call\n",
      "Hello Mohamad Kh\n",
      "After function call\n"
     ]
    }
   ],
   "source": [
    "#Example implemented in the class\n",
    "def my_decorator(repeat):\n",
    "    def inside_decorator(func):\n",
    "        def wrapper(*args, **kwargs):\n",
    "            print(\"Before function call\")\n",
    "            func(*args, **kwargs)\n",
    "            print(\"After function call\")\n",
    "            \n",
    "        return wrapper\n",
    "    return inside_decorator\n",
    "    \n",
    "\n",
    "@my_decorator(4)\n",
    "def say_hello(name, family):\n",
    "    print(f\"Hello {name} {family}\")\n",
    "    \n",
    "\n",
    "say_hello(\"Mohamad\", \"Kh\")"
   ]
  },
  {
   "cell_type": "code",
   "execution_count": null,
   "id": "cdc5eea1-93eb-4130-85c5-609b9377d8ce",
   "metadata": {},
   "outputs": [],
   "source": []
  },
  {
   "cell_type": "code",
   "execution_count": null,
   "id": "14436cc2-fd7d-4eda-ba82-7235ff13367e",
   "metadata": {},
   "outputs": [],
   "source": []
  },
  {
   "cell_type": "code",
   "execution_count": 58,
   "id": "97aa4aa7-1a6a-4ce1-9f2e-4c5efd00d2cf",
   "metadata": {},
   "outputs": [],
   "source": [
    "def my_decorator(func):\n",
    "    def wrapper():\n",
    "        print(\"Something is happening before the function is called.\")\n",
    "        func()\n",
    "        print(\"Something is happening after the function is called.\")\n",
    "    return wrapper"
   ]
  },
  {
   "cell_type": "code",
   "execution_count": 59,
   "id": "f461c230-d260-4632-99c8-18b42a3b01b3",
   "metadata": {},
   "outputs": [
    {
     "name": "stdout",
     "output_type": "stream",
     "text": [
      "Something is happening before the function is called.\n",
      "Hello!\n",
      "Something is happening after the function is called.\n"
     ]
    }
   ],
   "source": [
    "def say_hello():\n",
    "    print(\"Hello!\")\n",
    "\n",
    "# Manually applying the decorator\n",
    "say_hello = my_decorator(say_hello)\n",
    "\n",
    "# Calling the decorated function\n",
    "say_hello()"
   ]
  },
  {
   "cell_type": "code",
   "execution_count": 60,
   "id": "0c8974e3-c93e-462f-a36e-b4a3f05669a3",
   "metadata": {},
   "outputs": [],
   "source": [
    "def my_decorator(func):\n",
    "    def wrapper():\n",
    "        print(\"Something is happening before the function is called.\")\n",
    "        func()\n",
    "        print(\"Something is happening after the function is called.\")\n",
    "    return wrapper"
   ]
  },
  {
   "cell_type": "code",
   "execution_count": 61,
   "id": "5b949a5d-d41f-4971-bc4a-89eb0cdf3edf",
   "metadata": {},
   "outputs": [
    {
     "name": "stdout",
     "output_type": "stream",
     "text": [
      "Something is happening before the function is called.\n",
      "Hello!\n",
      "Something is happening after the function is called.\n"
     ]
    }
   ],
   "source": [
    "@my_decorator(a)\n",
    "def say_hello():\n",
    "    print(\"Hello!\")\n",
    "\n",
    "say_hello()"
   ]
  },
  {
   "cell_type": "code",
   "execution_count": 19,
   "id": "5a052bb7-1c13-4fe8-8df2-22a9b0a48410",
   "metadata": {},
   "outputs": [],
   "source": []
  },
  {
   "cell_type": "markdown",
   "id": "558bdc3e-63c2-453b-b5b8-caf6f31f88d7",
   "metadata": {},
   "source": [
    "**Decorators with Arguments**\n",
    "\n",
    "Sometimes, you might want your decorator to accept arguments. You can achieve this by adding another layer of functions:"
   ]
  },
  {
   "cell_type": "code",
   "execution_count": 62,
   "id": "b086c189-e939-4752-b11d-012aaf2730e9",
   "metadata": {},
   "outputs": [],
   "source": [
    "def add_welcome(course_number):\n",
    "    def decorator_repeat(func):\n",
    "        def wrapper(*args, **kwargs):\n",
    "            func(*args, **kwargs)\n",
    "            print(f\"Welcome to COSC{course_number}\")\n",
    "        return wrapper\n",
    "    return decorator_repeat"
   ]
  },
  {
   "cell_type": "code",
   "execution_count": 66,
   "id": "57cbcbff-3b4f-4087-86fa-b4b9a15a4c45",
   "metadata": {},
   "outputs": [
    {
     "name": "stdout",
     "output_type": "stream",
     "text": [
      "Hello, Mohamad!\n",
      "Welcome to COSC470\n"
     ]
    }
   ],
   "source": [
    "@add_welcome(course_number=470)\n",
    "def say_hello(name):\n",
    "    print(f\"Hello, {name}!\")\n",
    "\n",
    "say_hello(\"Mohamad\")"
   ]
  },
  {
   "cell_type": "code",
   "execution_count": null,
   "id": "6e2497b7-780a-4edb-9ccf-f59c7751f5d4",
   "metadata": {},
   "outputs": [],
   "source": []
  },
  {
   "cell_type": "code",
   "execution_count": null,
   "id": "24109c42-4531-4600-9316-209a7a09e916",
   "metadata": {},
   "outputs": [],
   "source": []
  },
  {
   "cell_type": "code",
   "execution_count": null,
   "id": "cf13a8b7-dc02-423f-b3b2-b7daca32e2b3",
   "metadata": {},
   "outputs": [],
   "source": []
  },
  {
   "cell_type": "markdown",
   "id": "47c97d71-3deb-4a29-bec2-84a72158e37b",
   "metadata": {},
   "source": [
    "## Common Use Cases\n",
    "\n",
    "1. Logging\n",
    "\n",
    "Decorators are commonly used for logging function calls:"
   ]
  },
  {
   "cell_type": "code",
   "execution_count": 11,
   "id": "d00320b9-110c-42b3-8fab-b56c16eee9c4",
   "metadata": {},
   "outputs": [
    {
     "name": "stdout",
     "output_type": "stream",
     "text": [
      "Calling add with (2, 3) and {}\n",
      "add returned 5\n"
     ]
    },
    {
     "data": {
      "text/plain": [
       "5"
      ]
     },
     "execution_count": 11,
     "metadata": {},
     "output_type": "execute_result"
    }
   ],
   "source": [
    "def log(func):\n",
    "    def wrapper(*args, **kwargs):\n",
    "        print(f\"Calling {func.__name__} with {args} and {kwargs}\")\n",
    "        result = func(*args, **kwargs)\n",
    "        print(f\"{func.__name__} returned {result}\")\n",
    "        return result\n",
    "    return wrapper\n",
    "\n",
    "@log\n",
    "def add(a, b):\n",
    "    return a + b\n",
    "\n",
    "add(2, 3)"
   ]
  },
  {
   "cell_type": "markdown",
   "id": "4f1e32de-3d37-4a6d-9364-178a45f42dfb",
   "metadata": {},
   "source": [
    "2. Access Control / Authentication\n",
    "\n",
    "Decorators can be used to check permissions or other conditions before allowing access to a function:"
   ]
  },
  {
   "cell_type": "code",
   "execution_count": 36,
   "id": "a9b3a827-1ea4-47ad-bfea-d6f52409bcaf",
   "metadata": {},
   "outputs": [
    {
     "name": "stdout",
     "output_type": "stream",
     "text": [
      "admin is viewing the dashboard\n",
      "Access denied\n"
     ]
    }
   ],
   "source": [
    "def require_permission(permission):\n",
    "    def decorator(func):\n",
    "        def wrapper(user):\n",
    "            if user == permission:\n",
    "                return func(user)\n",
    "            else:\n",
    "                print(\"Access denied\")\n",
    "        return wrapper\n",
    "    return decorator\n",
    "\n",
    "@require_permission(\"admin\")\n",
    "def view_dashboard(user):\n",
    "    print(f\"{user} is viewing the dashboard\")\n",
    "\n",
    "view_dashboard(\"admin\")  # Allowed\n",
    "view_dashboard(\"guest\")  # Denied"
   ]
  },
  {
   "cell_type": "markdown",
   "id": "c3fae5ab-0184-4e83-a9d3-fa5faa4de760",
   "metadata": {},
   "source": []
  },
  {
   "cell_type": "markdown",
   "id": "d0f09dac-2f1a-4425-8b2d-97ad98a023a4",
   "metadata": {},
   "source": [
    "3. Memoization\n",
    "\n",
    "Memoization is a technique used to speed up function calls by caching the results:"
   ]
  },
  {
   "cell_type": "code",
   "execution_count": 37,
   "id": "fd16bfc9-b8f0-4683-b297-32884583a62f",
   "metadata": {},
   "outputs": [
    {
     "name": "stdout",
     "output_type": "stream",
     "text": [
      "55\n"
     ]
    }
   ],
   "source": [
    "def memoize(func):\n",
    "    cache = {}\n",
    "    def wrapper(*args):\n",
    "        if args in cache:\n",
    "            return cache[args]\n",
    "        result = func(*args)\n",
    "        cache[args] = result\n",
    "        return result\n",
    "    return wrapper\n",
    "\n",
    "@memoize\n",
    "def fibonacci(n):\n",
    "    if n in (0, 1):\n",
    "        return n\n",
    "    return fibonacci(n-1) + fibonacci(n-2)\n",
    "\n",
    "print(fibonacci(10))  # Output: 55"
   ]
  },
  {
   "cell_type": "code",
   "execution_count": 70,
   "id": "e76c2e33-7fe5-4310-93cb-db3001cff38f",
   "metadata": {},
   "outputs": [
    {
     "name": "stdout",
     "output_type": "stream",
     "text": [
      "Hi, Alen, Kh\n"
     ]
    }
   ],
   "source": [
    "name = \"Alen\"\n",
    "family = \"Kh\"\n",
    "print(f\"Hi, {name}, {family}\")"
   ]
  },
  {
   "cell_type": "code",
   "execution_count": null,
   "id": "ddfb4355-ce9e-47d3-b616-62429cb23d8e",
   "metadata": {},
   "outputs": [],
   "source": [
    "# Add additional functionallity "
   ]
  },
  {
   "cell_type": "code",
   "execution_count": null,
   "id": "204c003c-8458-4d96-a6d2-c94aaff83a87",
   "metadata": {},
   "outputs": [],
   "source": [
    "from flask import Flask\n",
    "\n",
    "# Create a Flask application instance\n",
    "app = Flask(__name__)\n",
    "\n",
    "# Define a route for the root URL (\"/\")\n",
    "@app.route('/')\n",
    "def home():\n",
    "    return \"Hello, World!\"\n",
    "\n",
    "# Run the application\n",
    "if __name__ == '__main__':\n",
    "    app.run(debug=True)"
   ]
  },
  {
   "cell_type": "code",
   "execution_count": null,
   "id": "6c29fe78-f342-4340-8030-1c1b8f02d9d7",
   "metadata": {},
   "outputs": [],
   "source": []
  },
  {
   "cell_type": "markdown",
   "id": "d6e11cdf-11c5-4aa1-b3aa-324f782bbe75",
   "metadata": {},
   "source": [
    "## Context Manager\n",
    "A context manager in Python is a construct that allows you to manage resources efficiently, ensuring that they are properly acquired and released when no longer needed. The most common use of a context manager is with the with statement, which provides a way to wrap the execution of a block of code with methods defined by the context manager.\n",
    "\n",
    "**Key Points:**\n",
    "\n",
    "\t•\tResource Management: Context managers are typically used for managing resources such as file I/O, network connections, or locks, which need to be opened and closed properly.\n",
    "\t•\tAutomatic Cleanup: They ensure that setup (like opening a file) and cleanup (like closing the file) are automatically handled, even if errors occur within the block of code.\n",
    "\t•\t__enter__ and __exit__ Methods: A context manager defines __enter__ and __exit__ methods. __enter__ is executed when the with block is entered, and __exit__ is executed when the block is exited."
   ]
  },
  {
   "cell_type": "code",
   "execution_count": null,
   "id": "6ccdde19-a12d-4851-b6b9-93d9c6641045",
   "metadata": {},
   "outputs": [],
   "source": [
    "with open('file.txt', 'r') as file:\n",
    "    data = file.read()\n",
    "# The file is automatically closed after this block, even if an exception occurs."
   ]
  },
  {
   "cell_type": "markdown",
   "id": "8468567c-d6ac-42dc-8f6e-e41762819c9f",
   "metadata": {},
   "source": [
    "## Example of ternary operation in Java\n",
    "```java\n",
    "int x = 1;\n",
    "int y = x==1?1:5;"
   ]
  },
  {
   "cell_type": "code",
   "execution_count": null,
   "id": "8c0d1377-ac21-4119-bd5c-74d65c9434a4",
   "metadata": {},
   "outputs": [],
   "source": [
    "# Ternary in python"
   ]
  },
  {
   "cell_type": "code",
   "execution_count": 14,
   "id": "62f54cb5-d9da-44b0-bd33-2044db8898b0",
   "metadata": {},
   "outputs": [],
   "source": [
    "x = 2\n",
    "y = 1 if x%2==0 else 5"
   ]
  },
  {
   "cell_type": "code",
   "execution_count": 15,
   "id": "1a006720-9e47-4c28-8242-2be9c0fa9df7",
   "metadata": {},
   "outputs": [
    {
     "data": {
      "text/plain": [
       "1"
      ]
     },
     "execution_count": 15,
     "metadata": {},
     "output_type": "execute_result"
    }
   ],
   "source": [
    "y"
   ]
  },
  {
   "cell_type": "markdown",
   "id": "d8d23b3c-d3b4-4cbf-919a-dc5924a0cf63",
   "metadata": {},
   "source": []
  },
  {
   "cell_type": "code",
   "execution_count": null,
   "id": "596d9e4a-f212-4c23-a9f3-01f58701827b",
   "metadata": {},
   "outputs": [],
   "source": []
  },
  {
   "cell_type": "markdown",
   "id": "8ae1304f-61b1-4fb1-96e7-1f673448fb67",
   "metadata": {},
   "source": [
    "## Python Control Flow Tutorial\n",
    "\n",
    "This tutorial covers the basics of control flow in Python, including conditional statements, loops, and loop control statements.\n",
    "\n",
    "### 1. **Conditional Statements (`if`, `elif`, `else`)**\n",
    "\n",
    "Conditional statements allow you to execute code based on certain conditions.\n",
    "\n",
    "**Syntax:**\n",
    "```python\n",
    "if condition:\n",
    "    # Code block executed if the condition is True\n",
    "elif another_condition:\n",
    "    # Code block executed if the previous condition is False and this condition is True\n",
    "else:\n",
    "    # Code block executed if all the above conditions are False"
   ]
  },
  {
   "cell_type": "code",
   "execution_count": 1,
   "id": "60aa0447-2394-4ac1-8a25-e8f02a6754a1",
   "metadata": {},
   "outputs": [
    {
     "name": "stdout",
     "output_type": "stream",
     "text": [
      "x is exactly 10\n"
     ]
    }
   ],
   "source": [
    "x = 10\n",
    "\n",
    "if x > 15:\n",
    "    print(\"x is greater than 15\")\n",
    "elif x == 10:\n",
    "    print(\"x is exactly 10\")\n",
    "else:\n",
    "    print(\"x is less than 10\")\n",
    "# Output: x is exactly 10"
   ]
  },
  {
   "cell_type": "markdown",
   "id": "a3318893-d457-44da-b962-d280e4a0fbe4",
   "metadata": {},
   "source": [
    "## Loops (for, while) and range()\n",
    "\n",
    "Loops allow you to repeat a block of code multiple times.\n",
    "\n",
    "**for Loop:**\n",
    "\n",
    "- Used for iterating over a sequence (like a list, tuple, dictionary, set, or string).\n",
    "\n",
    "**Java example of a loop**\n",
    "```java\n",
    "for(int i=0; i<10; i++)"
   ]
  },
  {
   "cell_type": "code",
   "execution_count": null,
   "id": "f8137de2-384a-4301-b58e-87c30dad8fb3",
   "metadata": {},
   "outputs": [],
   "source": []
  },
  {
   "cell_type": "code",
   "execution_count": null,
   "id": "dddad943-84c1-486e-a970-3f2178538294",
   "metadata": {},
   "outputs": [],
   "source": []
  },
  {
   "cell_type": "code",
   "execution_count": null,
   "id": "2bcf11fa-9c38-4984-9d8d-bdf512f100bb",
   "metadata": {},
   "outputs": [],
   "source": []
  },
  {
   "cell_type": "code",
   "execution_count": 18,
   "id": "7408bc60-ff09-4ba7-b0cd-3dcd23326f38",
   "metadata": {},
   "outputs": [],
   "source": [
    "#Python "
   ]
  },
  {
   "cell_type": "code",
   "execution_count": 2,
   "id": "6ff51c88-e6aa-47b6-9136-782252d812ca",
   "metadata": {},
   "outputs": [
    {
     "name": "stdout",
     "output_type": "stream",
     "text": [
      "apple\n",
      "banana\n",
      "cherry\n"
     ]
    }
   ],
   "source": [
    "fruits = ['apple', 'banana', 'cherry']\n",
    "\n",
    "for fruit in fruits:\n",
    "    print(fruit)\n",
    "# Output:\n",
    "# apple\n",
    "# banana\n",
    "# cherry"
   ]
  },
  {
   "cell_type": "code",
   "execution_count": 20,
   "id": "d245f1ed-c7ab-44b2-9169-56ddf329e4a0",
   "metadata": {},
   "outputs": [
    {
     "name": "stdout",
     "output_type": "stream",
     "text": [
      "apple\n",
      "banana\n",
      "cherry\n"
     ]
    }
   ],
   "source": [
    "fruits = ['apple', 'banana', 'cherry']\n",
    "\n",
    "for _, fruit in enumerate(fruits):\n",
    "    print(fruit)\n",
    "# Output:\n",
    "# apple\n",
    "# banana\n",
    "# cherry"
   ]
  },
  {
   "cell_type": "code",
   "execution_count": null,
   "id": "373af706-3c13-4bbd-8e63-2a395592c23b",
   "metadata": {},
   "outputs": [],
   "source": []
  },
  {
   "cell_type": "code",
   "execution_count": null,
   "id": "1f0ea41b-e86e-402c-874d-649ad5c5317e",
   "metadata": {},
   "outputs": [],
   "source": []
  },
  {
   "cell_type": "code",
   "execution_count": 8,
   "id": "b104e6b4-65ba-4b5d-8b11-73b73e1dc99f",
   "metadata": {},
   "outputs": [
    {
     "name": "stdout",
     "output_type": "stream",
     "text": [
      "0\n",
      "1\n",
      "2\n",
      "3\n",
      "4\n"
     ]
    }
   ],
   "source": [
    "for i in range(5):\n",
    "    print(i)\n",
    "# Output:\n",
    "# 0\n",
    "# 1\n",
    "# 2\n",
    "# 3\n",
    "# 4"
   ]
  },
  {
   "cell_type": "code",
   "execution_count": 22,
   "id": "316d9a3d-b959-43c8-a7b5-97edd3644338",
   "metadata": {},
   "outputs": [
    {
     "name": "stdout",
     "output_type": "stream",
     "text": [
      "0 1 2 3\n"
     ]
    }
   ],
   "source": [
    "print(*range(4))"
   ]
  },
  {
   "cell_type": "code",
   "execution_count": 11,
   "id": "7c8bd944-a800-452c-9a65-f15b0850f47e",
   "metadata": {},
   "outputs": [
    {
     "name": "stdout",
     "output_type": "stream",
     "text": [
      "0 1 2 3 4 5 6 7 8 9\n"
     ]
    }
   ],
   "source": [
    "print(*range(10))"
   ]
  },
  {
   "cell_type": "code",
   "execution_count": null,
   "id": "bd3d99b8-50e8-4041-a8be-49518f21f0cb",
   "metadata": {},
   "outputs": [],
   "source": []
  },
  {
   "cell_type": "code",
   "execution_count": null,
   "id": "4ba16878-c984-4de2-a5f4-60247e851444",
   "metadata": {},
   "outputs": [],
   "source": []
  },
  {
   "cell_type": "code",
   "execution_count": null,
   "id": "811192b5-c8e1-4844-a36c-924de5fc6664",
   "metadata": {},
   "outputs": [],
   "source": []
  },
  {
   "cell_type": "code",
   "execution_count": null,
   "id": "326860c1-c3af-46fc-b332-267f0dea2a7e",
   "metadata": {},
   "outputs": [],
   "source": []
  },
  {
   "cell_type": "code",
   "execution_count": 27,
   "id": "14f5defd-4f04-4a7e-887d-9fbecb1697a4",
   "metadata": {},
   "outputs": [
    {
     "name": "stdout",
     "output_type": "stream",
     "text": [
      "0\n",
      "2\n",
      "4\n",
      "6\n",
      "8\n",
      "10\n",
      "12\n",
      "14\n",
      "16\n",
      "18\n",
      "20\n",
      "22\n",
      "24\n",
      "26\n",
      "28\n",
      "30\n",
      "32\n",
      "34\n",
      "36\n",
      "38\n",
      "40\n",
      "42\n",
      "44\n",
      "46\n",
      "48\n",
      "50\n",
      "52\n",
      "54\n",
      "56\n",
      "58\n",
      "60\n",
      "62\n",
      "64\n",
      "66\n",
      "68\n",
      "70\n",
      "72\n",
      "74\n",
      "76\n",
      "78\n",
      "80\n",
      "82\n",
      "84\n",
      "86\n",
      "88\n",
      "90\n",
      "92\n",
      "94\n",
      "96\n",
      "98\n",
      "100\n"
     ]
    }
   ],
   "source": [
    "def even_numbers(limit):\n",
    "    \"\"\"A simple generator that yields even numbers up to a given limit.\"\"\"\n",
    "    num = 0\n",
    "    while num <= limit:\n",
    "        yield num\n",
    "        num += 2\n",
    "\n",
    "# Using the generator\n",
    "for even in even_numbers(100):\n",
    "    print(even)"
   ]
  },
  {
   "cell_type": "code",
   "execution_count": null,
   "id": "d41a7ce5-58c3-4f56-aa74-1ca061fecafa",
   "metadata": {},
   "outputs": [],
   "source": []
  },
  {
   "cell_type": "code",
   "execution_count": null,
   "id": "990b59c3-834c-4208-8375-285bf30af64e",
   "metadata": {},
   "outputs": [],
   "source": []
  },
  {
   "cell_type": "code",
   "execution_count": null,
   "id": "cc653df9-b252-4931-830e-7cd9be3bc786",
   "metadata": {},
   "outputs": [],
   "source": []
  },
  {
   "cell_type": "code",
   "execution_count": 15,
   "id": "611bb29d-0b39-42f2-bc9a-beda52a669fd",
   "metadata": {},
   "outputs": [
    {
     "name": "stdout",
     "output_type": "stream",
     "text": [
      "1\n",
      "2\n",
      "3\n",
      "4\n"
     ]
    }
   ],
   "source": [
    "# An iterable: a list\n",
    "my_list = [1, 2, 3, 4]\n",
    "\n",
    "# Getting an iterator from the iterable\n",
    "my_iterator = iter(my_list)\n",
    "\n",
    "# Using the iterator to access elements one at a time\n",
    "print(next(my_iterator))  # Output: 1\n",
    "print(next(my_iterator))  # Output: 2\n",
    "print(next(my_iterator))  # Output: 3\n",
    "print(next(my_iterator))  # Output: 4\n",
    "\n",
    "# If you call next() again, it will raise a StopIteration exception\n",
    "# because there are no more items to return."
   ]
  },
  {
   "cell_type": "code",
   "execution_count": null,
   "id": "5dc49fe6-99fe-4561-973d-3106c6d2899c",
   "metadata": {},
   "outputs": [],
   "source": []
  },
  {
   "cell_type": "code",
   "execution_count": null,
   "id": "13f2d2db-2d6c-47c8-9665-62085b58408a",
   "metadata": {},
   "outputs": [],
   "source": []
  },
  {
   "cell_type": "code",
   "execution_count": null,
   "id": "f5959e29-0126-4309-b1ab-d4a47897d2bc",
   "metadata": {},
   "outputs": [],
   "source": []
  },
  {
   "cell_type": "code",
   "execution_count": 17,
   "id": "3225b160-393e-48f0-b450-fec0f617587b",
   "metadata": {},
   "outputs": [
    {
     "name": "stdout",
     "output_type": "stream",
     "text": [
      "3\n",
      "2\n",
      "1\n"
     ]
    }
   ],
   "source": [
    "class Countdown:\n",
    "    def __init__(self, start):\n",
    "        self.current = start\n",
    "\n",
    "    def __iter__(self):\n",
    "        return self\n",
    "\n",
    "    def __next__(self):\n",
    "        if self.current <= 0:\n",
    "            raise StopIteration\n",
    "        else:\n",
    "            self.current -= 1\n",
    "            return self.current + 1\n",
    "\n",
    "# Using the custom iterator\n",
    "countdown = Countdown(3)\n",
    "for number in countdown:\n",
    "    print(number)\n",
    "\n",
    "# Output:\n",
    "# 3\n",
    "# 2\n",
    "# 1"
   ]
  },
  {
   "cell_type": "code",
   "execution_count": null,
   "id": "94d61541-9b1a-460f-a09e-17785e4ccfc0",
   "metadata": {},
   "outputs": [],
   "source": []
  },
  {
   "cell_type": "code",
   "execution_count": null,
   "id": "9986cddd-b162-4dc2-9738-9d2d1ea5f6b0",
   "metadata": {},
   "outputs": [],
   "source": []
  },
  {
   "cell_type": "code",
   "execution_count": null,
   "id": "41600b9f-ffa3-4be7-8c97-f391de7bb6ef",
   "metadata": {},
   "outputs": [],
   "source": []
  },
  {
   "cell_type": "code",
   "execution_count": null,
   "id": "68831e3a-7891-4dfa-bc0e-65d9a2facfb8",
   "metadata": {},
   "outputs": [],
   "source": []
  },
  {
   "cell_type": "markdown",
   "id": "e1eaa0de-72bd-4ed3-9f0b-b072b0b6d49a",
   "metadata": {},
   "source": [
    "**while Loop:**\n",
    "\n",
    "- Repeats a block of code as long as the condition is True."
   ]
  },
  {
   "cell_type": "code",
   "execution_count": 7,
   "id": "c627bdbb-c2b1-46c9-8841-f321d95a3acf",
   "metadata": {},
   "outputs": [
    {
     "name": "stdout",
     "output_type": "stream",
     "text": [
      "0\n",
      "1\n",
      "2\n",
      "3\n",
      "4\n"
     ]
    }
   ],
   "source": [
    "count = 0\n",
    "\n",
    "while count < 5:\n",
    "    print(count)\n",
    "    count += 1\n",
    "# Output:\n",
    "# 0\n",
    "# 1\n",
    "# 2\n",
    "# 3\n",
    "# 4"
   ]
  },
  {
   "cell_type": "code",
   "execution_count": null,
   "id": "6c3e4a19-2f9f-4fc5-a024-f28e9bdc9e40",
   "metadata": {},
   "outputs": [],
   "source": []
  },
  {
   "cell_type": "markdown",
   "id": "04d1f052-6cfb-4582-89da-d43117ba66a2",
   "metadata": {},
   "source": [
    "## Loop Control Statements (break, continue, pass)\n",
    "\n",
    "Loop control statements alter the normal flow of a loop.\n",
    "\n",
    "**break:**\n",
    "\n",
    "- Exits the loop immediately, skipping the remaining iterations."
   ]
  },
  {
   "cell_type": "code",
   "execution_count": 19,
   "id": "0cc3b69a-2849-4939-96c2-66960500a37f",
   "metadata": {},
   "outputs": [
    {
     "name": "stdout",
     "output_type": "stream",
     "text": [
      "0\n",
      "1\n",
      "2\n"
     ]
    }
   ],
   "source": [
    "for i in range(5):\n",
    "    if i == 3:\n",
    "        break\n",
    "    print(i)\n",
    "# Output:\n",
    "# 0\n",
    "# 1\n",
    "# 2"
   ]
  },
  {
   "cell_type": "code",
   "execution_count": null,
   "id": "17758e79-24b7-4933-8e74-84e93447de2c",
   "metadata": {},
   "outputs": [],
   "source": [
    "#Continue"
   ]
  },
  {
   "cell_type": "code",
   "execution_count": 20,
   "id": "2de3aa5e-9082-42be-b27b-8f6542c29179",
   "metadata": {},
   "outputs": [
    {
     "name": "stdout",
     "output_type": "stream",
     "text": [
      "0\n",
      "1\n",
      "2\n",
      "4\n"
     ]
    }
   ],
   "source": [
    "for i in range(5):\n",
    "    if i == 3:\n",
    "        continue\n",
    "    print(i)\n",
    "# Output:\n",
    "# 0\n",
    "# 1\n",
    "# 2\n",
    "# 4"
   ]
  },
  {
   "cell_type": "code",
   "execution_count": null,
   "id": "784a324b-438e-4b56-aa2a-078e1717d3ed",
   "metadata": {},
   "outputs": [],
   "source": [
    "#pass: A null operation; it does nothing and is used as a placeholder."
   ]
  },
  {
   "cell_type": "code",
   "execution_count": 29,
   "id": "8300415a-2b8a-4080-acf0-511a6e1caa04",
   "metadata": {},
   "outputs": [],
   "source": [
    "def my_func():\n",
    "    pass"
   ]
  },
  {
   "cell_type": "code",
   "execution_count": 21,
   "id": "35da9716-7bbf-47e6-9931-c41c04a46a5b",
   "metadata": {},
   "outputs": [
    {
     "name": "stdout",
     "output_type": "stream",
     "text": [
      "0\n",
      "1\n",
      "2\n",
      "3\n",
      "4\n"
     ]
    }
   ],
   "source": [
    "for i in range(5):\n",
    "    if i == 3:\n",
    "        pass  # Placeholder, does nothing\n",
    "    print(i)\n",
    "# Output:\n",
    "# 0\n",
    "# 1\n",
    "# 2\n",
    "# 3\n",
    "# 4"
   ]
  },
  {
   "cell_type": "markdown",
   "id": "a7fc26ee-9f1a-4d30-8452-3184e50e2205",
   "metadata": {},
   "source": [
    "## List Comprehension\n",
    "\n",
    "List comprehension is a concise way to create lists in Python. It allows you to generate a new list by applying an expression to each item in an existing iterable (like a list, range, or string), optionally filtering items using a condition.\n",
    "\n",
    "**Basic Syntax**\n",
    "```python\n",
    "new_list = [expression for item in iterable if condition]"
   ]
  },
  {
   "cell_type": "code",
   "execution_count": null,
   "id": "524c7d09-b4cc-4316-91ec-2a82ffd7158d",
   "metadata": {},
   "outputs": [],
   "source": []
  },
  {
   "cell_type": "code",
   "execution_count": null,
   "id": "263d3174-0dbc-4f54-b939-bf3bedd8d3ba",
   "metadata": {},
   "outputs": [],
   "source": []
  },
  {
   "cell_type": "markdown",
   "id": "8d1e20ef-6a36-4b1a-a14e-724eb5b40cce",
   "metadata": {},
   "source": [
    "\t•\tExpression: The operation to perform on each item.\n",
    "\t•\tItem: The current element from the iterable.\n",
    "\t•\tIterable: A sequence (like a list, range, or string) that we loop over.\n",
    "\t•\tCondition (optional): A filter that decides which items to include in the new list.\n",
    "\n",
    "Example: Squaring Numbers\n",
    "\n",
    "Create a list of squares from a list of numbers:"
   ]
  },
  {
   "cell_type": "code",
   "execution_count": null,
   "id": "79460a67-15aa-41c6-aeef-d8eaf3e1881c",
   "metadata": {},
   "outputs": [],
   "source": []
  },
  {
   "cell_type": "code",
   "execution_count": 30,
   "id": "e557ea13-77a4-4816-af6d-ab97fc86397d",
   "metadata": {},
   "outputs": [
    {
     "name": "stdout",
     "output_type": "stream",
     "text": [
      "[1, 4, 9, 16, 25]\n"
     ]
    }
   ],
   "source": [
    "numbers = [1, 2, 3, 4, 5]\n",
    "squares = [x ** 2 for x in numbers]\n",
    "\n",
    "print(squares)  # Output: [1, 4, 9, 16, 25]"
   ]
  },
  {
   "cell_type": "markdown",
   "id": "b7a21581-941b-443f-b25c-1fc9f670a111",
   "metadata": {},
   "source": [
    "## Example: Filtering Even Numbers\n",
    "\n",
    "Create a list of even numbers from a range:"
   ]
  },
  {
   "cell_type": "code",
   "execution_count": 45,
   "id": "0e7cac37-c083-416c-985d-ef1063921310",
   "metadata": {},
   "outputs": [
    {
     "name": "stdout",
     "output_type": "stream",
     "text": [
      "[0, 2, 4, 6, 8]\n"
     ]
    }
   ],
   "source": [
    "evens = [x for x in range(10) if x % 2 == 0]\n",
    "\n",
    "print(evens)  # Output: [0, 2, 4, 6, 8]"
   ]
  },
  {
   "cell_type": "markdown",
   "id": "74cdab90-14c2-4fd9-8002-06ce7485e4ea",
   "metadata": {},
   "source": [
    "## Dictionary Comprehension\n",
    "\n",
    "Dictionary comprehension is similar to list comprehension but creates dictionaries instead. It allows you to generate key-value pairs using an expression and an optional condition.\n",
    "\n",
    "```python\n",
    "new_dict = {key_expression: value_expression for item in iterable if condition}"
   ]
  },
  {
   "cell_type": "code",
   "execution_count": null,
   "id": "804e0c43-eae1-492b-b8ac-48675ca88dd8",
   "metadata": {},
   "outputs": [],
   "source": []
  },
  {
   "cell_type": "code",
   "execution_count": null,
   "id": "913c6a58-c631-4fb8-9106-2461e1cfd5da",
   "metadata": {},
   "outputs": [],
   "source": []
  },
  {
   "cell_type": "markdown",
   "id": "e50f3685-52d5-4003-a27f-c6afa3a98873",
   "metadata": {},
   "source": [
    "\t•\tKey Expression: The operation to generate keys.\n",
    "\t•\tValue Expression: The operation to generate values.\n",
    "\t•\tItem: The current element from the iterable.\n",
    "\t•\tIterable: A sequence (like a list, range, or string) that we loop over.\n",
    "\t•\tCondition (optional): A filter that decides which items to include in the new dictionary."
   ]
  },
  {
   "cell_type": "code",
   "execution_count": 46,
   "id": "fd421923-be5a-4093-9f15-dbde636355de",
   "metadata": {},
   "outputs": [
    {
     "name": "stdout",
     "output_type": "stream",
     "text": [
      "{1: 1, 2: 4, 3: 9, 4: 16, 5: 25}\n"
     ]
    }
   ],
   "source": [
    "numbers = [1, 2, 3, 4, 5]\n",
    "squares_dict = {x: x ** 2 for x in numbers}\n",
    "\n",
    "print(squares_dict)  # Output: {1: 1, 2: 4, 3: 9, 4: 16, 5: 25}"
   ]
  },
  {
   "cell_type": "code",
   "execution_count": null,
   "id": "6065d8ec-81c0-4253-b252-3f6e4b7753cd",
   "metadata": {},
   "outputs": [],
   "source": []
  },
  {
   "cell_type": "markdown",
   "id": "671276ff-3d28-4c1c-80a2-b6f95b561924",
   "metadata": {},
   "source": [
    "## Classes in Python\n",
    "\n",
    "A class in Python is a blueprint for creating objects (instances). It defines a set of attributes and methods that the objects created from the class can use. Classes allow you to bundle data and functionality together, promoting object-oriented programming.\n",
    "\n",
    "**Basic Class Structure**\n",
    "\n",
    "Here’s the basic syntax for defining a class in Python:"
   ]
  },
  {
   "cell_type": "code",
   "execution_count": 48,
   "id": "375e03f3-848b-48bd-ab51-af5501025ada",
   "metadata": {},
   "outputs": [],
   "source": [
    "class MyClass:\n",
    "    # Class attribute\n",
    "    class_variable = \"I am a class variable\"\n",
    "\n",
    "    # Constructor method\n",
    "    def __init__(self, value):\n",
    "        # Instance attribute\n",
    "        self.instance_variable = value\n",
    "\n",
    "    # Instance method\n",
    "    def show_value(self):\n",
    "        print(f\"The value is: {self.instance_variable}\")"
   ]
  },
  {
   "cell_type": "markdown",
   "id": "b75242dd-34f0-4523-916d-931e931c336e",
   "metadata": {},
   "source": [
    "Creating an Object (Instance) of a Class\n",
    "\n",
    "To create an object of a class, you call the class using its name and pass any required arguments:"
   ]
  },
  {
   "cell_type": "code",
   "execution_count": 49,
   "id": "0f26e55f-6f5a-48e3-b785-d5152a724cd1",
   "metadata": {},
   "outputs": [
    {
     "name": "stdout",
     "output_type": "stream",
     "text": [
      "The value is: Hello, World!\n",
      "I am a class variable\n"
     ]
    }
   ],
   "source": [
    "# Creating an instance of MyClass\n",
    "obj = MyClass(\"Hello, World!\")\n",
    "\n",
    "# Accessing an instance method\n",
    "obj.show_value()  # Output: The value is: Hello, World!\n",
    "\n",
    "# Accessing a class variable\n",
    "print(MyClass.class_variable)  # Output: I am a class variable"
   ]
  },
  {
   "cell_type": "markdown",
   "id": "ec6cbf49-a9ec-4b1c-919b-838cadaffa84",
   "metadata": {},
   "source": [
    "## Instance Methods\n",
    "\n",
    "Instance methods are the most common type of methods in Python. They operate on an instance of the class (object) and can access and modify the object’s attributes.\n",
    "\n",
    "**Key Points:**\n",
    "\n",
    "\t•\tDefined with self as the first parameter, referring to the instance.\n",
    "\t•\tCan access instance attributes and other instance methods via self."
   ]
  },
  {
   "cell_type": "code",
   "execution_count": 50,
   "id": "d88bb252-aca1-4a80-a761-8e8ba828835c",
   "metadata": {},
   "outputs": [
    {
     "name": "stdout",
     "output_type": "stream",
     "text": [
      "Toyota Corolla - 2020\n"
     ]
    }
   ],
   "source": [
    "class Car:\n",
    "    def __init__(self, model, year):\n",
    "        self.model = model\n",
    "        self.year = year\n",
    "\n",
    "    def display_info(self):\n",
    "        print(f\"{self.model} - {self.year}\")\n",
    "\n",
    "# Creating an instance of Car\n",
    "car = Car(\"Toyota Corolla\", 2020)\n",
    "car.display_info()  # Output: Toyota Corolla - 2020"
   ]
  },
  {
   "cell_type": "code",
   "execution_count": null,
   "id": "4f0745f2-6257-4499-9fcd-94d442990e28",
   "metadata": {},
   "outputs": [],
   "source": []
  },
  {
   "cell_type": "markdown",
   "id": "3ddcddb6-10e5-47cb-bcb8-e8261a22d366",
   "metadata": {},
   "source": [
    "## Class Methods\n",
    "\n",
    "Class methods are methods that operate on the class itself rather than on instances of the class. They are defined using the @classmethod decorator and take cls as their first parameter, which refers to the class.\n",
    "\n",
    "**Key Points:**\n",
    "\n",
    "\t•\tUse the @classmethod decorator.\n",
    "\t•\tThe first parameter is cls, which represents the class.\n",
    "\t•\tCan access and modify class variables, but not instance variables."
   ]
  },
  {
   "cell_type": "code",
   "execution_count": 52,
   "id": "767caca0-bf69-4f74-99fa-5cc1206dcc15",
   "metadata": {},
   "outputs": [
    {
     "name": "stdout",
     "output_type": "stream",
     "text": [
      "1.1\n"
     ]
    }
   ],
   "source": [
    "class Employee:\n",
    "    raise_amount = 1.05  # Class variable\n",
    "\n",
    "    def __init__(self, name, salary):\n",
    "        self.name = name\n",
    "        self.salary = salary\n",
    "\n",
    "    @classmethod\n",
    "    def set_raise_amount(cls, amount):\n",
    "        cls.raise_amount = amount\n",
    "\n",
    "# Setting the raise amount using the class method\n",
    "Employee.set_raise_amount(1.10)\n",
    "print(Employee.raise_amount)  # Output: 1.10"
   ]
  },
  {
   "cell_type": "code",
   "execution_count": null,
   "id": "5099eaa7-e9b0-4b71-adc5-ed0e3ff775dc",
   "metadata": {},
   "outputs": [],
   "source": []
  },
  {
   "cell_type": "code",
   "execution_count": null,
   "id": "3ca5f607-777c-4ce8-b2ed-403263b50c5f",
   "metadata": {},
   "outputs": [],
   "source": []
  },
  {
   "cell_type": "markdown",
   "id": "7e4b1f5b-3b9c-41b3-b180-fb32eb3e30ea",
   "metadata": {},
   "source": [
    "## Static Methods\n",
    "\n",
    "Static methods are methods that do not operate on an instance or a class but are included in a class for logical grouping. They are defined using the @staticmethod decorator and do not take self or cls as parameters.\n",
    "\n",
    "**Key Points:**\n",
    "\n",
    "\t•\tUse the @staticmethod decorator.\n",
    "\t•\tDo not have access to instance (self) or class (cls) variables.\n",
    "\t•\tUsed for utility or helper functions that make sense to be within the class context.\n"
   ]
  },
  {
   "cell_type": "code",
   "execution_count": 51,
   "id": "5160b71d-3f6d-45b4-a4f1-801108f23b8f",
   "metadata": {},
   "outputs": [
    {
     "name": "stdout",
     "output_type": "stream",
     "text": [
      "8\n",
      "15\n"
     ]
    }
   ],
   "source": [
    "class MathUtils:\n",
    "    @staticmethod\n",
    "    def add(x, y):\n",
    "        return x + y\n",
    "\n",
    "    @staticmethod\n",
    "    def multiply(x, y):\n",
    "        return x * y\n",
    "\n",
    "# Calling static methods\n",
    "print(MathUtils.add(5, 3))        # Output: 8\n",
    "print(MathUtils.multiply(5, 3))   # Output: 15"
   ]
  },
  {
   "cell_type": "code",
   "execution_count": null,
   "id": "e9ef688c-35b7-4d80-a3b4-4d42e9549ec4",
   "metadata": {},
   "outputs": [],
   "source": []
  },
  {
   "cell_type": "code",
   "execution_count": null,
   "id": "3e9523be-4cdb-4fb8-8d08-a3d17230c02f",
   "metadata": {},
   "outputs": [],
   "source": []
  },
  {
   "cell_type": "code",
   "execution_count": null,
   "id": "fe73ad52-9cbf-40b6-8dda-c59827ec91f0",
   "metadata": {},
   "outputs": [],
   "source": []
  },
  {
   "cell_type": "markdown",
   "id": "dbe0f2b4-ec07-400a-af85-22570a411de0",
   "metadata": {},
   "source": [
    "## Python Special Methods\n",
    "\n",
    "Special methods in Python, also known as “magic methods” or “dunder methods” (short for “double underscore”), are predefined methods that allow you to define how objects of your class behave with built-in Python operations. These methods have names that start and end with double underscores, such as __init__, __str__, __len__, etc.\n",
    "\n",
    "Using special methods, you can customize your classes to support various built-in functions and operators, making your objects behave more like built-in Python types.\n",
    "\n",
    "**Common Special Methods**\n",
    "\n",
    "1. \\_\\_init__(self, ...)\n",
    "\n",
    "The \\_\\_init__ method, also known as the constructor, is called when an instance of the class is created. It is used to initialize the object’s attributes.\n",
    "\n",
    "Example:"
   ]
  },
  {
   "cell_type": "code",
   "execution_count": null,
   "id": "d0f2f1e9-cfff-473f-bd1a-4165911b849b",
   "metadata": {},
   "outputs": [],
   "source": [
    "class Person:\n",
    "    def __init__(self, name, age):\n",
    "        self.name = name\n",
    "        self.age = age\n",
    "\n",
    "person = Person(\"Alice\", 30)\n",
    "print(person.name)  # Output: Alice\n",
    "print(person.age)   # Output: 30"
   ]
  },
  {
   "cell_type": "code",
   "execution_count": null,
   "id": "32183c2c-6914-46ba-8254-3e0a0db94a06",
   "metadata": {},
   "outputs": [],
   "source": []
  },
  {
   "cell_type": "markdown",
   "id": "245f0538-b823-4b37-be9c-3d73c231027a",
   "metadata": {},
   "source": [
    "2. \\_\\_str__(self)\n",
    "\n",
    "The \\_\\_str__ method is called by the str() function and the print() function to provide a string representation of the object that is easy to read."
   ]
  },
  {
   "cell_type": "code",
   "execution_count": 53,
   "id": "77d69948-a618-40bc-b412-781e6e55ddae",
   "metadata": {},
   "outputs": [
    {
     "name": "stdout",
     "output_type": "stream",
     "text": [
      "Alice is 30 years old.\n"
     ]
    }
   ],
   "source": [
    "class Person:\n",
    "    def __init__(self, name, age):\n",
    "        self.name = name\n",
    "        self.age = age\n",
    "\n",
    "    def __str__(self):\n",
    "        return f\"{self.name} is {self.age} years old.\"\n",
    "\n",
    "person = Person(\"Alice\", 30)\n",
    "print(person)  # Output: Alice is 30 years old."
   ]
  },
  {
   "cell_type": "markdown",
   "id": "2fae33f3-f884-4a9b-a1d7-6cf57d117b3f",
   "metadata": {},
   "source": [
    "3. \\_\\_repr__(self)\n",
    "\n",
    "The \\_\\_repr__ method is used to provide an unambiguous string representation of the object, typically used for debugging. It is called by the repr() function."
   ]
  },
  {
   "cell_type": "code",
   "execution_count": 54,
   "id": "db8e9a9c-fdce-4fce-b16b-a56f77a4f021",
   "metadata": {},
   "outputs": [
    {
     "name": "stdout",
     "output_type": "stream",
     "text": [
      "Person(name='Alice', age=30)\n"
     ]
    }
   ],
   "source": [
    "class Person:\n",
    "    def __init__(self, name, age):\n",
    "        self.name = name\n",
    "        self.age = age\n",
    "\n",
    "    def __repr__(self):\n",
    "        return f\"Person(name='{self.name}', age={self.age})\"\n",
    "\n",
    "person = Person(\"Alice\", 30)\n",
    "print(repr(person))  # Output: Person(name='Alice', age=30)"
   ]
  },
  {
   "cell_type": "code",
   "execution_count": 56,
   "id": "262d282f-ef46-4af0-8de8-9a5ea8aa7295",
   "metadata": {},
   "outputs": [
    {
     "data": {
      "text/plain": [
       "\"Person(name='Alice', age=30)\""
      ]
     },
     "execution_count": 56,
     "metadata": {},
     "output_type": "execute_result"
    }
   ],
   "source": [
    "person.__repr__()"
   ]
  },
  {
   "cell_type": "markdown",
   "id": "656354a3-75b4-4490-ad2c-13c571e18680",
   "metadata": {},
   "source": [
    "4. \\_\\_len\\_\\_(self)\n",
    "\n",
    "The \\_\\_len__ method is called by the len() function and should return the length of the object."
   ]
  },
  {
   "cell_type": "code",
   "execution_count": 59,
   "id": "a03e5732-48b5-4738-991a-d36d75862fba",
   "metadata": {},
   "outputs": [
    {
     "name": "stdout",
     "output_type": "stream",
     "text": [
      "4\n"
     ]
    }
   ],
   "source": [
    "class MyList:\n",
    "    def __init__(self, items):\n",
    "        self.items = items\n",
    "\n",
    "    def __len__(self):\n",
    "        return len(self.items)\n",
    "\n",
    "my_list = MyList([1, 2, 3, 4])\n",
    "print(len(my_list))  # Output: 4"
   ]
  },
  {
   "cell_type": "markdown",
   "id": "413d3ba6-4639-46bb-9bb4-f184969e237b",
   "metadata": {},
   "source": [
    "8. \\_\\_add__(self, other)\n",
    "\n",
    "The \\_\\_add__ method is called when the + operator is used with objects of the class. It allows you to define how addition works for your objects.\n"
   ]
  },
  {
   "cell_type": "code",
   "execution_count": 60,
   "id": "cbcfa463-2737-4e68-9cdb-c3e9b99d8dac",
   "metadata": {},
   "outputs": [
    {
     "name": "stdout",
     "output_type": "stream",
     "text": [
      "Vector(4, 6)\n"
     ]
    }
   ],
   "source": [
    "class Vector:\n",
    "    def __init__(self, x, y):\n",
    "        self.x = x\n",
    "        self.y = y\n",
    "\n",
    "    def __add__(self, other):\n",
    "        return Vector(self.x + other.x, self.y + other.y)\n",
    "\n",
    "    def __repr__(self):\n",
    "        return f\"Vector({self.x}, {self.y})\"\n",
    "\n",
    "v1 = Vector(1, 2)\n",
    "v2 = Vector(3, 4)\n",
    "print(v1 + v2)  # Output: Vector(4, 6)"
   ]
  },
  {
   "cell_type": "markdown",
   "id": "e8d3ecdd-3ab3-4f64-bc70-c8caa3e0db85",
   "metadata": {},
   "source": [
    "9. \\_\\_eq__(self, other)\n",
    "\n",
    "The \\_\\_eq__ method is called when the == operator is used to compare objects. It allows you to define custom equality logic."
   ]
  },
  {
   "cell_type": "code",
   "execution_count": 62,
   "id": "cb5321fe-3ad2-4009-b84e-45cb4b0b50b3",
   "metadata": {},
   "outputs": [
    {
     "name": "stdout",
     "output_type": "stream",
     "text": [
      "True\n",
      "False\n"
     ]
    }
   ],
   "source": [
    "class Person:\n",
    "    def __init__(self, name, age):\n",
    "        self.name = name\n",
    "        self.age = age\n",
    "\n",
    "    def __eq__(self, other):\n",
    "        return self.name == other.name and self.age == other.age\n",
    "\n",
    "p1 = Person(\"Alice\", 30)\n",
    "p2 = Person(\"Alice\", 30)\n",
    "p3 = Person(\"Bob\", 25)\n",
    "\n",
    "print(p1 == p2)  # Output: True\n",
    "print(p1 == p3)  # Output: False"
   ]
  },
  {
   "cell_type": "markdown",
   "id": "b0535462-e502-45a8-8ddc-a5558d16795a",
   "metadata": {},
   "source": [
    "10. \\_\\_iter__(self) and \\_\\_next__(self)\n",
    "\n",
    "These methods are used to make an object iterable. \\_\\_iter__ returns the iterator object itself, and \\_\\_next__ returns the next value from the iterator."
   ]
  },
  {
   "cell_type": "code",
   "execution_count": 64,
   "id": "50573525-9d47-4a49-9077-9365356d312e",
   "metadata": {},
   "outputs": [
    {
     "name": "stdout",
     "output_type": "stream",
     "text": [
      "1\n",
      "2\n",
      "3\n",
      "4\n"
     ]
    }
   ],
   "source": [
    "class Counter:\n",
    "    def __init__(self, start, end):\n",
    "        self.current = start\n",
    "        self.end = end\n",
    "\n",
    "    def __iter__(self):\n",
    "        return self\n",
    "\n",
    "    def __next__(self):\n",
    "        if self.current >= self.end:\n",
    "            raise StopIteration\n",
    "        self.current += 1\n",
    "        return self.current - 1\n",
    "\n",
    "counter = Counter(1, 5)\n",
    "for number in counter:\n",
    "    print(number)  # Output: 1, 2, 3, 4"
   ]
  },
  {
   "cell_type": "code",
   "execution_count": 65,
   "id": "3093ebe0-8c4b-430f-bd81-097ed086538a",
   "metadata": {},
   "outputs": [
    {
     "name": "stdout",
     "output_type": "stream",
     "text": [
      "1\n",
      "3\n",
      "5\n",
      "7\n",
      "9\n",
      "11\n",
      "13\n",
      "15\n",
      "17\n",
      "19\n"
     ]
    }
   ],
   "source": [
    "class OddNumberGenerator:\n",
    "    def __init__(self, start=1):\n",
    "        # Initialize the starting point; make sure it's odd\n",
    "        self.current = start if start % 2 != 0 else start + 1\n",
    "\n",
    "    def __iter__(self):\n",
    "        # The __iter__ method returns the iterator object itself\n",
    "        return self\n",
    "\n",
    "    def __next__(self):\n",
    "        # Save the current value to return\n",
    "        number = self.current\n",
    "        # Move to the next odd number\n",
    "        self.current += 2\n",
    "        # Return the current odd number\n",
    "        return number\n",
    "\n",
    "# Creating an instance of the OddNumberGenerator\n",
    "odd_generator = OddNumberGenerator()\n",
    "\n",
    "# Generating odd numbers using a for loop\n",
    "for _ in range(10):\n",
    "    print(next(odd_generator))  # Output: 1, 3, 5, 7, 9, 11, 13, 15, 17, 19"
   ]
  },
  {
   "cell_type": "markdown",
   "id": "75314376-f9b4-4700-a3c6-69c4cf573f78",
   "metadata": {},
   "source": [
    " 11. \\_\\_call__ Method in Python\n",
    "\n",
    "The \\_\\_call__ method in Python is a special or magic method that allows an instance of a class to be called as if it were a function. This means that you can “call” an object like you would a regular function, and it will execute the code defined inside the \\_\\_call__ method.\n",
    "\n",
    "**Key Features of \\_\\_call__**\n",
    "\n",
    "\t1.\tMakes Objects Callable: By defining the __call__ method, you make an instance of your class behave like a function.\n",
    "\t2.\tFlexible Use Cases: Useful for scenarios where you want to encapsulate functionality inside an object, such as creating function wrappers, decorators, or stateful functions.\n",
    "\t3.\tCustom Behavior: Allows you to define custom behavior when an object is called, providing a more intuitive interface for certain types of objects.\n",
    "\n",
    "Basic Example\n",
    "\n",
    "Here’s a simple example of how the \\_\\_call__ method works:"
   ]
  },
  {
   "cell_type": "code",
   "execution_count": 67,
   "id": "a01968bd-6c7c-4e11-ac7b-f0b97a0bfb69",
   "metadata": {},
   "outputs": [
    {
     "name": "stdout",
     "output_type": "stream",
     "text": [
      "10\n",
      "20\n"
     ]
    }
   ],
   "source": [
    "class Multiplier:\n",
    "    def __init__(self, factor):\n",
    "        self.factor = factor\n",
    "\n",
    "    def __call__(self, number):\n",
    "        return number * self.factor\n",
    "\n",
    "# Creating an instance of Multiplier\n",
    "times_two = Multiplier(2)\n",
    "\n",
    "# Using the instance as a function\n",
    "print(times_two(5))  # Output: 10\n",
    "print(times_two(10)) # Output: 20"
   ]
  },
  {
   "cell_type": "code",
   "execution_count": null,
   "id": "969af7ec-d14a-4aee-ab9b-170f99f44f53",
   "metadata": {},
   "outputs": [],
   "source": []
  }
 ],
 "metadata": {
  "kernelspec": {
   "display_name": "Python 3 (ipykernel)",
   "language": "python",
   "name": "python3"
  },
  "language_info": {
   "codemirror_mode": {
    "name": "ipython",
    "version": 3
   },
   "file_extension": ".py",
   "mimetype": "text/x-python",
   "name": "python",
   "nbconvert_exporter": "python",
   "pygments_lexer": "ipython3",
   "version": "3.11.7"
  }
 },
 "nbformat": 4,
 "nbformat_minor": 5
}
