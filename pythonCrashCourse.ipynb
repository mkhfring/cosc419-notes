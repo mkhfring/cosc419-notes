{
 "cells": [
  {
   "cell_type": "markdown",
   "id": "0651603e-a920-45a0-b73b-d6c54731eadd",
   "metadata": {},
   "source": [
    "<img title=\"a title\" alt=\"Alt text\" src=\"Python-logo.png\">"
   ]
  },
  {
   "cell_type": "markdown",
   "id": "f1640e86-46e7-47ea-a663-c933f8849a09",
   "metadata": {},
   "source": [
    "### What is Python?\n",
    "\n",
    "- **High-Level, Interpreted Language**\n",
    "  - Python is a high-level, interpreted programming language known for its readability and simplicity (It is an scripting language).\n",
    " \n",
    "- **Dynamic Language**\n",
    "  - Python is dynamically typed, meaning variable types are determined at runtime. This flexibility allows for faster development and easier debugging.\n",
    "\n",
    "- **Versatile and Powerful**\n",
    "  - Used for web development, data analysis, artificial intelligence, machine learning, automation, and more.\n",
    "\n",
    "\n",
    "- **Extensive Libraries and Community**\n",
    "  - Python boasts a rich ecosystem of libraries (like NumPy, Pandas, TensorFlow) and a large, active community that supports its development.\n",
    "\n",
    "- **Cross-Platform Compatibility**\n",
    "  - Runs on various platforms, including Windows, macOS, Linux, and more, making it versatile for different environments.\n",
    "\n",
    "- **Open Source**\n",
    "  - Python is open-source, free to use, and supported by the Python Software Foundation."
   ]
  },
  {
   "cell_type": "code",
   "execution_count": null,
   "id": "72d30a49-e418-4bd8-9a11-2cc4e227225d",
   "metadata": {},
   "outputs": [],
   "source": []
  },
  {
   "cell_type": "code",
   "execution_count": null,
   "id": "ae74e5f5-b0de-4101-8a8f-30fc95b7b0db",
   "metadata": {},
   "outputs": [],
   "source": []
  },
  {
   "cell_type": "code",
   "execution_count": null,
   "id": "d300c580-e784-4e56-9805-eef9362c8c81",
   "metadata": {},
   "outputs": [],
   "source": []
  },
  {
   "cell_type": "code",
   "execution_count": null,
   "id": "168f8ac7-a9f6-413d-8af8-a4757f031e5f",
   "metadata": {},
   "outputs": [],
   "source": []
  },
  {
   "cell_type": "code",
   "execution_count": null,
   "id": "130849c8-eb58-49fb-b06f-cf45b0a6a9d9",
   "metadata": {},
   "outputs": [],
   "source": []
  },
  {
   "cell_type": "markdown",
   "id": "aaa3abcf-588a-4c1f-8ae7-db893dd7daf1",
   "metadata": {},
   "source": [
    "## How to Install Python\n",
    "\n",
    "### Step 1: Download Python\n",
    "\n",
    "1. Go to the [official Python website](https://www.python.org/downloads/).\n",
    "2. Click on the **Download Python** button. The website will suggest the latest version for your operating system (Windows, macOS, or Linux).\n",
    "\n",
    "### Step 2: Run the Installer\n",
    "\n",
    "- **For Windows:**\n",
    "  1. Locate the downloaded installer (usually in your `Downloads` folder).\n",
    "  2. Double-click the installer to run it.\n",
    "  3. Make sure to check the box **\"Add Python to PATH\"** at the bottom of the installer window.\n",
    "  4. Click on **\"Install Now\"** to start the installation process.\n",
    "\n",
    "- **For macOS:**\n",
    "  1. Open the downloaded `.pkg` file.\n",
    "  2. Follow the instructions in the installer.\n",
    "  3. Python should be added to your system automatically.\n",
    "\n",
    "- **For Linux:**\n",
    "  - Most Linux distributions come with Python pre-installed. You can check by typing `python3 --version` in the terminal.\n",
    "  - If not installed, you can use the package manager to install it:\n",
    "    ```bash\n",
    "    sudo apt-get update\n",
    "    sudo apt-get install python3\n",
    "    ```\n",
    "\n",
    "### Step 3: Verify the Installation\n",
    "\n",
    "1. Open a terminal or command prompt.\n",
    "2. Type `python --version` or `python3 --version` and press Enter.\n",
    "3. You should see the installed Python version number displayed.\n",
    "\n",
    "### Step 4: Install a Code Editor (Optional)\n",
    "\n",
    "- It is recommended to use a code editor like [Visual Studio Code](https://code.visualstudio.com/), [PyCharm](https://www.jetbrains.com/pycharm/), or [Sublime Text](https://www.sublimetext.com/) for writing Python code.\n",
    "\n"
   ]
  },
  {
   "cell_type": "code",
   "execution_count": null,
   "id": "6dd3583a-2947-4a96-8809-6e79995dfeeb",
   "metadata": {},
   "outputs": [],
   "source": []
  },
  {
   "cell_type": "code",
   "execution_count": null,
   "id": "a5549410-2baf-4690-875e-1dc4d2ce6363",
   "metadata": {},
   "outputs": [],
   "source": []
  },
  {
   "cell_type": "code",
   "execution_count": null,
   "id": "2e6a060f-a83c-4639-b98d-2d4f1b56c7e6",
   "metadata": {},
   "outputs": [],
   "source": []
  },
  {
   "cell_type": "code",
   "execution_count": null,
   "id": "0ae03fac-1f15-4353-a5b0-87f949a4b747",
   "metadata": {},
   "outputs": [],
   "source": []
  },
  {
   "cell_type": "code",
   "execution_count": null,
   "id": "0ded9903-7b7c-47ba-8b3c-0ef4828779e5",
   "metadata": {},
   "outputs": [],
   "source": []
  },
  {
   "cell_type": "markdown",
   "id": "6acc77ea-d0e6-44c0-9bf5-3cdd1c73a0e4",
   "metadata": {},
   "source": [
    "## What is a Virtual Environment in Python?\n",
    "\n",
    "A **virtual environment** in Python is a self-contained directory that contains a specific Python interpreter and a collection of installed packages and dependencies required for a particular project. It allows you to create isolated environments for different projects, ensuring that each project can have its own dependencies and Python versions without interfering with other projects on your system.\n",
    "\n",
    "### **Why Use a Virtual Environment?**\n",
    "\n",
    "1. **Dependency Isolation:**\n",
    "   - Each virtual environment can have its own set of packages, which means you can use different versions of the same package across multiple projects without conflicts.\n",
    "\n",
    "2. **Avoid Global Package Conflicts:**\n",
    "   - Using virtual environments prevents issues where projects require different versions of the same package, which would conflict if installed globally.\n",
    "\n",
    "3. **Simplified Dependency Management:**\n",
    "   - Virtual environments make it easier to manage dependencies, as they can be installed, updated, or removed within the environment without affecting the global Python setup.\n",
    "\n",
    "4. **Project Portability:**\n",
    "   - Virtual environments can be shared with others through `requirements.txt` files, allowing for consistent environments across different machines or deployments.\n",
    "\n",
    "\n",
    "### **Creating and Using a Virtual Environment**\n",
    "\n",
    "1. **Create a Virtual Environment:**\n",
    "   - Use the `venv` module to create a new environment:\n",
    "     ```bash\n",
    "     python -m venv myenv\n",
    "     ```\n",
    "   - This command creates a new directory named `myenv` containing the virtual environment.\n",
    "\n",
    "2. **Activate the Virtual Environment:**\n",
    "   - **On Windows:**\n",
    "     ```bash\n",
    "     .\\myenv\\Scripts\\activate\n",
    "     ```\n",
    "   - **On macOS and Linux:**\n",
    "     ```bash\n",
    "     source myenv/bin/activate\n",
    "     ```\n",
    "\n",
    "3. **Deactivate the Virtual Environment:**\n",
    "   - To deactivate the virtual environment and return to the global Python environment, simply run:\n",
    "     ```bash\n",
    "     deactivate\n",
    "     ```\n",
    "\n",
    "### **Best Practices with Virtual Environments**\n",
    "\n",
    "- Always create a virtual environment for each new Python project to manage dependencies effectively.\n",
    "- Use `requirements.txt` to keep track of dependencies. You can generate this file with:\n",
    "  ```bash\n",
    "  pip freeze > requirements.txt"
   ]
  },
  {
   "cell_type": "code",
   "execution_count": null,
   "id": "be7dcc24-b9b4-4dbb-935a-22e419bc2ee4",
   "metadata": {},
   "outputs": [],
   "source": []
  },
  {
   "cell_type": "code",
   "execution_count": null,
   "id": "50f8f9b6-be8b-442f-a825-e6588aa1c082",
   "metadata": {},
   "outputs": [],
   "source": []
  },
  {
   "cell_type": "code",
   "execution_count": null,
   "id": "fabd9d14-df1b-4c33-954e-57768142e68f",
   "metadata": {},
   "outputs": [],
   "source": []
  },
  {
   "cell_type": "code",
   "execution_count": null,
   "id": "9aaf852f-c57a-4b0d-9b09-fe5f39132d40",
   "metadata": {},
   "outputs": [],
   "source": []
  },
  {
   "cell_type": "code",
   "execution_count": null,
   "id": "500c9521-3d4f-4be5-b978-17da590aa7e7",
   "metadata": {},
   "outputs": [],
   "source": []
  },
  {
   "cell_type": "code",
   "execution_count": null,
   "id": "329075f1-ce6f-46da-bbb2-ab2abc7d69f7",
   "metadata": {},
   "outputs": [],
   "source": []
  },
  {
   "cell_type": "code",
   "execution_count": null,
   "id": "9fa70725-55f1-415a-9eec-51d4ad6e84f3",
   "metadata": {},
   "outputs": [],
   "source": []
  },
  {
   "cell_type": "code",
   "execution_count": null,
   "id": "feda02b8-1e78-43bc-a89f-19a63204bced",
   "metadata": {},
   "outputs": [],
   "source": []
  },
  {
   "cell_type": "markdown",
   "id": "aca87de6-2779-4fc9-9331-ba9f101974ad",
   "metadata": {},
   "source": [
    "## How to Install and Create a Virtual Environment Using Anaconda\n",
    "\n",
    "Anaconda is a popular distribution of Python and R for scientific computing and data science. It includes package management and environment management with `conda`, which makes it easy to create virtual environments.\n",
    "\n",
    "### **Step 1: Install Anaconda**\n",
    "\n",
    "1. **Download Anaconda:**\n",
    "   - Go to the [Anaconda Distribution page](https://www.anaconda.com/products/distribution) and download the installer for your operating system (Windows, macOS, or Linux).\n",
    "\n",
    "2. **Install Anaconda:**\n",
    "   - Follow the installation instructions specific to your operating system. Anaconda provides a graphical installer for Windows and macOS, and a command-line installer for Linux.\n",
    "\n",
    "### **Step 2: Create a Virtual Environment with Anaconda**\n",
    "\n",
    "1. **Open Anaconda Prompt or Terminal:**\n",
    "   - On Windows, search for \"Anaconda Prompt\" in the Start Menu.\n",
    "   - On macOS or Linux, open your terminal.\n",
    "\n",
    "2. **Create a Virtual Environment:**\n",
    "   - Use the `conda create` command to create a new environment. Specify the environment name and the Python version you want to use. For example, to create an environment named `myenv` with Python 3.8:\n",
    "     ```bash\n",
    "     conda create --name myenv python=3.8\n",
    "     ```\n",
    "   - This command sets up a new environment named `myenv` with Python 3.8 installed.\n",
    "\n",
    "3. **Activate the Virtual Environment:**\n",
    "   - To activate the virtual environment, use the `conda activate` command:\n",
    "     ```bash\n",
    "     conda activate myenv\n",
    "     ```\n",
    "   - After activation, your terminal prompt will change to show the active environment, e.g., `(myenv)`.\n",
    "\n",
    "4. **Install Packages in the Virtual Environment:**\n",
    "   - With the environment activated, you can install packages using `conda install` or `pip install`. For example, to install NumPy:\n",
    "     ```bash\n",
    "     conda install numpy\n",
    "     ```\n",
    "   - You can also install packages from other channels (e.g., `conda-forge`) by specifying the channel:\n",
    "     ```bash\n",
    "     conda install -c conda-forge pandas\n",
    "     ```\n",
    "\n",
    "5. **Deactivate the Virtual Environment:**\n",
    "   - When you are finished working in the environment, deactivate it by running:\n",
    "     ```bash\n",
    "     conda deactivate\n",
    "     ```\n",
    "   - This command returns you to your base environment or the system Python, depending on your setup.\n",
    "\n"
   ]
  },
  {
   "cell_type": "code",
   "execution_count": null,
   "id": "17ddf875-c3a9-40c5-b431-535866a2e55d",
   "metadata": {},
   "outputs": [],
   "source": []
  },
  {
   "cell_type": "code",
   "execution_count": null,
   "id": "12be7f8d-c059-4a2d-9727-6452375a2b16",
   "metadata": {},
   "outputs": [],
   "source": []
  },
  {
   "cell_type": "code",
   "execution_count": null,
   "id": "7852279b-cbf4-4d5b-b090-9bfedae42f37",
   "metadata": {},
   "outputs": [],
   "source": []
  },
  {
   "cell_type": "code",
   "execution_count": null,
   "id": "ec65bafd-d416-4ebe-9122-5439f8b938c1",
   "metadata": {},
   "outputs": [],
   "source": []
  },
  {
   "cell_type": "markdown",
   "id": "14fd7fb5-0ec9-4a8c-9bda-c9c5e434bae6",
   "metadata": {},
   "source": [
    "# Executing the first python command\n"
   ]
  },
  {
   "cell_type": "code",
   "execution_count": 1,
   "id": "df957f70-9ebc-48dd-95ef-ef6279a41892",
   "metadata": {},
   "outputs": [
    {
     "name": "stdout",
     "output_type": "stream",
     "text": [
      "Hello World!\n"
     ]
    }
   ],
   "source": [
    "print(\"Hello World!\")"
   ]
  },
  {
   "cell_type": "code",
   "execution_count": null,
   "id": "8ab740dc-5119-40f7-8bf4-843bcee1da74",
   "metadata": {},
   "outputs": [],
   "source": []
  },
  {
   "cell_type": "code",
   "execution_count": null,
   "id": "6ea8b28d-5d46-4439-ac4c-540c53ec8c8c",
   "metadata": {},
   "outputs": [],
   "source": []
  },
  {
   "cell_type": "code",
   "execution_count": null,
   "id": "9ed54bd8-d7a5-443d-95c4-ca1dc5afaa57",
   "metadata": {},
   "outputs": [],
   "source": []
  },
  {
   "cell_type": "code",
   "execution_count": null,
   "id": "88dcf258-1249-4d7f-a172-6be53809392f",
   "metadata": {},
   "outputs": [],
   "source": []
  },
  {
   "cell_type": "code",
   "execution_count": null,
   "id": "584ff2fb-3ff8-4abf-80c7-5183d8456627",
   "metadata": {},
   "outputs": [],
   "source": []
  },
  {
   "cell_type": "code",
   "execution_count": null,
   "id": "04edfbea-713e-42de-a597-0b3d84ee97d1",
   "metadata": {},
   "outputs": [],
   "source": []
  },
  {
   "cell_type": "code",
   "execution_count": null,
   "id": "b2db6381-774b-4c84-b864-47e8c477c01a",
   "metadata": {},
   "outputs": [],
   "source": []
  },
  {
   "cell_type": "code",
   "execution_count": null,
   "id": "35aad6af-e564-4a0f-b9f5-0f1d7f76a9a9",
   "metadata": {},
   "outputs": [],
   "source": []
  },
  {
   "cell_type": "code",
   "execution_count": null,
   "id": "5f7da08a-956d-4565-a319-3a5915a51e0c",
   "metadata": {},
   "outputs": [],
   "source": []
  },
  {
   "cell_type": "code",
   "execution_count": null,
   "id": "d4c2eef4-2248-4e95-b2e9-9cbcb8d9ff77",
   "metadata": {},
   "outputs": [],
   "source": []
  },
  {
   "cell_type": "code",
   "execution_count": null,
   "id": "789ae381-dc15-40ab-a1f1-9b604b9148c6",
   "metadata": {},
   "outputs": [],
   "source": []
  },
  {
   "cell_type": "code",
   "execution_count": null,
   "id": "bdbfc306-27a2-48fd-b68a-5f45ff2ef48b",
   "metadata": {},
   "outputs": [],
   "source": []
  },
  {
   "cell_type": "code",
   "execution_count": null,
   "id": "16c7a102-1c72-4e7c-a067-1b8968067a6f",
   "metadata": {},
   "outputs": [],
   "source": []
  },
  {
   "cell_type": "markdown",
   "id": "7165a711-728c-4caf-8a68-823b298b00df",
   "metadata": {},
   "source": [
    "## Python Basics for Java Developers\n",
    "\n",
    "### 1. **Python Syntax vs. Java Syntax**\n",
    "\n",
    "- **Simpler Syntax**: Python does not use semicolons (`;`) to end statements or curly braces (`{}`) to define code blocks. Indentation is used to define the scope of loops, functions, classes, and conditionals.\n",
    "\n",
    "**Java Example:**\n",
    "```java\n",
    "public class HelloWorld {\n",
    "    public static void main(String[] args) {\n",
    "        System.out.println(\"Hello, World!\");\n",
    "    }\n",
    "}\n",
    "\n"
   ]
  },
  {
   "cell_type": "markdown",
   "id": "957bb27b-b5e2-461f-8bb0-5a10345147c0",
   "metadata": {},
   "source": [
    "**Python Equivalent:**\n",
    "```python\n",
    "def main():\n",
    "    print(\"Hello, World!\")\n",
    "\n",
    "if __name__ == \"__main__\":\n",
    "    main()\n"
   ]
  },
  {
   "cell_type": "code",
   "execution_count": 3,
   "id": "a6cf1346-0cb5-44e1-b47e-ac817ab39420",
   "metadata": {},
   "outputs": [
    {
     "ename": "IndentationError",
     "evalue": "expected an indented block after function definition on line 1 (1856016130.py, line 3)",
     "output_type": "error",
     "traceback": [
      "\u001b[0;36m  Cell \u001b[0;32mIn[3], line 3\u001b[0;36m\u001b[0m\n\u001b[0;31m    print(\"Hello, World!\")\u001b[0m\n\u001b[0m    ^\u001b[0m\n\u001b[0;31mIndentationError\u001b[0m\u001b[0;31m:\u001b[0m expected an indented block after function definition on line 1\n"
     ]
    }
   ],
   "source": [
    "def main():     \n",
    "    print(\"Hello, World!\")\n",
    "\n",
    "if __name__ == \"__main__\":\n",
    "    main()"
   ]
  },
  {
   "cell_type": "code",
   "execution_count": 4,
   "id": "c7939c94-aa5f-4dbb-bb70-ca297d535713",
   "metadata": {},
   "outputs": [
    {
     "ename": "IndentationError",
     "evalue": "expected an indented block after function definition on line 1 (2323609364.py, line 2)",
     "output_type": "error",
     "traceback": [
      "\u001b[0;36m  Cell \u001b[0;32mIn[4], line 2\u001b[0;36m\u001b[0m\n\u001b[0;31m    print(\"Hello, World!\")\u001b[0m\n\u001b[0m    ^\u001b[0m\n\u001b[0;31mIndentationError\u001b[0m\u001b[0;31m:\u001b[0m expected an indented block after function definition on line 1\n"
     ]
    }
   ],
   "source": []
  },
  {
   "cell_type": "code",
   "execution_count": null,
   "id": "6852602d-8efb-49f5-8c65-5b5e443d1ca8",
   "metadata": {},
   "outputs": [],
   "source": [
    "public class HelloWorld {public static void main(String[] args) {System.out.println(\"Hello, World!\");\n",
    "    }\n",
    "}"
   ]
  },
  {
   "cell_type": "markdown",
   "id": "43c32038-afc3-4b4a-ba82-cc922041de04",
   "metadata": {},
   "source": [
    "## Variables, Data Types, and Dynamic Typing\n",
    "\n",
    "- **Dynamic Typing:** Python uses dynamic typing, which means variable types are determined at runtime, and you do not need to declare them explicitly.\n",
    "\n",
    "**Java Example:**\n",
    "```java\n",
    "int number = 10;\n",
    "String text = \"Hello\";"
   ]
  },
  {
   "cell_type": "markdown",
   "id": "96a9a2ca-d0a7-4900-8d8e-bc8f26702ca8",
   "metadata": {},
   "source": []
  },
  {
   "cell_type": "markdown",
   "id": "722813b5-35ff-4689-a7c9-a9a8034315fa",
   "metadata": {},
   "source": [
    "**Python Equivalent:**\n",
    "```python\n",
    "number = 10        # integer\n",
    "text = \"Hello\"     # string\n"
   ]
  },
  {
   "cell_type": "code",
   "execution_count": null,
   "id": "f7770863-e001-4e53-86a7-06d4f4682932",
   "metadata": {},
   "outputs": [],
   "source": []
  },
  {
   "cell_type": "code",
   "execution_count": null,
   "id": "ad343637-fd2e-4e11-9e77-92a1795b5939",
   "metadata": {},
   "outputs": [],
   "source": []
  },
  {
   "cell_type": "code",
   "execution_count": 10,
   "id": "cd36a3e6-3663-4e73-ab0e-d0c7a20224e7",
   "metadata": {},
   "outputs": [],
   "source": [
    "number = 10       \n",
    "text = 'Bye'"
   ]
  },
  {
   "cell_type": "code",
   "execution_count": 8,
   "id": "716f9793-804b-4ace-9719-cc3dc3644ef4",
   "metadata": {},
   "outputs": [
    {
     "data": {
      "text/plain": [
       "'Bye'"
      ]
     },
     "execution_count": 8,
     "metadata": {},
     "output_type": "execute_result"
    }
   ],
   "source": [
    "text"
   ]
  },
  {
   "cell_type": "code",
   "execution_count": 5,
   "id": "09d36f32-2618-4e8c-b91d-03eebfaf6fa0",
   "metadata": {},
   "outputs": [
    {
     "data": {
      "text/plain": [
       "10"
      ]
     },
     "execution_count": 5,
     "metadata": {},
     "output_type": "execute_result"
    }
   ],
   "source": [
    "number"
   ]
  },
  {
   "cell_type": "code",
   "execution_count": null,
   "id": "573707cf-b442-4291-b521-ac1f528c13a7",
   "metadata": {},
   "outputs": [],
   "source": []
  },
  {
   "cell_type": "markdown",
   "id": "2e8294cc-590a-4311-84c9-c4e3ca8dd7d6",
   "metadata": {},
   "source": [
    "## Common Data Types:\n",
    " - int (integer)\n",
    " - float (floating-point number)\n",
    " - str (string)\n",
    " - bool (boolean: True or False)\n",
    " - list (similar to arrays but more flexible)\n",
    " - dict (dictionary, similar to maps)\n",
    " - Type Checking: Use type() to check the type of a variable."
   ]
  },
  {
   "cell_type": "code",
   "execution_count": 11,
   "id": "de1d70a7-161c-42c7-9622-a14e0df23e87",
   "metadata": {},
   "outputs": [
    {
     "name": "stdout",
     "output_type": "stream",
     "text": [
      "<class 'int'>\n"
     ]
    }
   ],
   "source": [
    "number = 10\n",
    "print(type(number))  # Output: <class 'int'>"
   ]
  },
  {
   "cell_type": "code",
   "execution_count": null,
   "id": "de19a777-3470-4499-beb0-bf5c3614ac33",
   "metadata": {},
   "outputs": [],
   "source": []
  },
  {
   "cell_type": "markdown",
   "id": "1da6fd09-2752-4a12-aa15-d7d3fc0a4c0e",
   "metadata": {},
   "source": [
    "## Basic Operators and Expressions\n",
    "\n",
    " - Arithmetic Operators: +, -, *, / (division), // (floor division), % (modulus), ** (exponentiation)"
   ]
  },
  {
   "cell_type": "code",
   "execution_count": 17,
   "id": "2d027ba5-1ee5-47a2-9abe-e23df624745a",
   "metadata": {},
   "outputs": [
    {
     "name": "stdout",
     "output_type": "stream",
     "text": [
      "<class 'float'>\n",
      "1.0\n"
     ]
    }
   ],
   "source": [
    "a = 10\n",
    "b = 3.0\n",
    "\n",
    "# print(a + b)  # Output: 13\n",
    "# print(a / b)  # Output: 3.333...\n",
    "print(type(a // b)) # Output: 3\n",
    "# print(a ** b) # Output: 1000\n",
    "print(a % b)  "
   ]
  },
  {
   "cell_type": "code",
   "execution_count": null,
   "id": "6380429c-079c-4a01-93d3-7e7b92bf67f9",
   "metadata": {},
   "outputs": [],
   "source": []
  },
  {
   "cell_type": "code",
   "execution_count": 21,
   "id": "ccb7c6d3-580c-4b1a-90ad-590e22a3ef8b",
   "metadata": {},
   "outputs": [
    {
     "data": {
      "text/plain": [
       "'a10'"
      ]
     },
     "execution_count": 21,
     "metadata": {},
     "output_type": "execute_result"
    }
   ],
   "source": [
    "'a' + str(10)"
   ]
  },
  {
   "cell_type": "code",
   "execution_count": 15,
   "id": "ab641d2f-4644-4571-bb32-705c033dace3",
   "metadata": {},
   "outputs": [
    {
     "data": {
      "text/plain": [
       "'a10'"
      ]
     },
     "execution_count": 15,
     "metadata": {},
     "output_type": "execute_result"
    }
   ],
   "source": [
    "'a' + '10'"
   ]
  },
  {
   "cell_type": "code",
   "execution_count": 16,
   "id": "8095e4b1-15d1-48ef-aaa8-ee06ffeb76bf",
   "metadata": {},
   "outputs": [
    {
     "data": {
      "text/plain": [
       "'aaaaaaaaaa'"
      ]
     },
     "execution_count": 16,
     "metadata": {},
     "output_type": "execute_result"
    }
   ],
   "source": [
    "'a' * 10"
   ]
  },
  {
   "cell_type": "code",
   "execution_count": null,
   "id": "24299dd7-e04f-42f9-a82e-e14392583140",
   "metadata": {},
   "outputs": [],
   "source": []
  },
  {
   "cell_type": "markdown",
   "id": "1a4a1a8c-cdec-405e-8906-25b4b5506fc4",
   "metadata": {},
   "source": [
    "- Comparison Operators: ==, !=, >, <, >=, <=\n",
    "- Logical Operators: and, or, not (in Python, instead of &&, ||, ! in Java)"
   ]
  },
  {
   "cell_type": "code",
   "execution_count": 28,
   "id": "328f6ffb-7cc3-438d-9037-bb8de48c2c7c",
   "metadata": {},
   "outputs": [
    {
     "name": "stdout",
     "output_type": "stream",
     "text": [
      "False\n"
     ]
    }
   ],
   "source": [
    "x = 5\n",
    "y = 10\n",
    "\n",
    "print(x < y and y < x )"
   ]
  },
  {
   "cell_type": "code",
   "execution_count": 27,
   "id": "442aedf3-c122-42ac-a4d7-b787f06c32d5",
   "metadata": {},
   "outputs": [
    {
     "data": {
      "text/plain": [
       "False"
      ]
     },
     "execution_count": 27,
     "metadata": {},
     "output_type": "execute_result"
    }
   ],
   "source": [
    "not x == 5"
   ]
  },
  {
   "cell_type": "code",
   "execution_count": null,
   "id": "e7d11517-7d72-4865-bef3-56c559726724",
   "metadata": {},
   "outputs": [],
   "source": []
  },
  {
   "cell_type": "code",
   "execution_count": null,
   "id": "fae25c25-f30c-49d6-9c7d-42cf241e6f77",
   "metadata": {},
   "outputs": [],
   "source": []
  },
  {
   "cell_type": "markdown",
   "id": "e81ceb43-0bb7-46ba-9461-1109570427c1",
   "metadata": {},
   "source": [
    "# Explain the following expressions"
   ]
  },
  {
   "cell_type": "code",
   "execution_count": 30,
   "id": "280cccdf-db1d-4bae-b4b5-ae32cc911821",
   "metadata": {},
   "outputs": [
    {
     "name": "stdout",
     "output_type": "stream",
     "text": [
      "True\n"
     ]
    }
   ],
   "source": [
    "print(x < y or y < x  and x==1)"
   ]
  },
  {
   "cell_type": "code",
   "execution_count": 31,
   "id": "5c76bd91-813f-4064-8071-8ef6ab26b011",
   "metadata": {},
   "outputs": [
    {
     "name": "stdout",
     "output_type": "stream",
     "text": [
      "False\n"
     ]
    }
   ],
   "source": [
    "print(x < y and y < x  or x==1)"
   ]
  },
  {
   "cell_type": "code",
   "execution_count": null,
   "id": "8f39a348-9d14-45c6-b7ab-355719c2a299",
   "metadata": {},
   "outputs": [],
   "source": []
  },
  {
   "cell_type": "markdown",
   "id": "b5a9d71b-c9e7-4886-be44-95f7b45aa95a",
   "metadata": {},
   "source": [
    "# Doc strings"
   ]
  },
  {
   "cell_type": "code",
   "execution_count": 39,
   "id": "3e25e30f-758e-448d-a304-75af9c1b26e1",
   "metadata": {},
   "outputs": [],
   "source": [
    "def add(a, b):\n",
    "    \"\"\"\n",
    "    This function adds two numbers.\n",
    "    :param a: First number\n",
    "    :param b: Second number\n",
    "    :return: Sum of a and b\n",
    "    \"\"\"\n",
    "    return a + b"
   ]
  },
  {
   "cell_type": "code",
   "execution_count": null,
   "id": "f006c792-ef2a-4eac-801b-54b55a58cbdb",
   "metadata": {},
   "outputs": [],
   "source": [
    "# Hello"
   ]
  },
  {
   "cell_type": "code",
   "execution_count": null,
   "id": "42239518-6989-4bc2-9dcd-0da7f6853d04",
   "metadata": {},
   "outputs": [],
   "source": []
  },
  {
   "cell_type": "code",
   "execution_count": null,
   "id": "7e466979-561c-42cc-93bf-2752f8e1448b",
   "metadata": {},
   "outputs": [],
   "source": [
    "\n",
    "# Creating a list\n",
    "fruits = ['apple', 'banana', 'cherry']\n",
    "\n",
    "# Accessing elements\n",
    "print(fruits[0])  # Output: apple\n",
    "\n",
    "# Modifying elements\n",
    "fruits[1] = 'orange'\n",
    "\n",
    "# Adding elements\n",
    "fruits.append('grape')  # Adds 'grape' at the end\n",
    "\n",
    "# Removing elements\n",
    "fruits.remove('apple')  # Removes 'apple'\n",
    "\n",
    "# List methods\n",
    "print(len(fruits))        # Output: 3\n",
    "print(fruits.index('cherry'))  # Output: 1"
   ]
  },
  {
   "cell_type": "code",
   "execution_count": null,
   "id": "5a94f31c-e29e-4636-8fed-92a78b85494b",
   "metadata": {},
   "outputs": [],
   "source": []
  },
  {
   "cell_type": "code",
   "execution_count": null,
   "id": "9670eead-c836-45b2-ae3a-3e27f483d760",
   "metadata": {},
   "outputs": [],
   "source": []
  },
  {
   "cell_type": "code",
   "execution_count": 34,
   "id": "42212910-1dc0-4aaf-a1e6-e74256bc92ee",
   "metadata": {},
   "outputs": [],
   "source": [
    "example.append('a')"
   ]
  },
  {
   "cell_type": "code",
   "execution_count": 35,
   "id": "342423bd-7517-47be-8d6d-f5e8d5841d89",
   "metadata": {},
   "outputs": [
    {
     "data": {
      "text/plain": [
       "['a']"
      ]
     },
     "execution_count": 35,
     "metadata": {},
     "output_type": "execute_result"
    }
   ],
   "source": [
    "example\n"
   ]
  },
  {
   "cell_type": "code",
   "execution_count": 33,
   "id": "7581e334-289b-4426-a3e4-8ebd4b30cdc2",
   "metadata": {},
   "outputs": [],
   "source": [
    "example = list()"
   ]
  },
  {
   "cell_type": "code",
   "execution_count": 32,
   "id": "cf669e66-cdbb-4114-a6c5-1c4735490818",
   "metadata": {},
   "outputs": [
    {
     "name": "stdout",
     "output_type": "stream",
     "text": [
      "apple\n",
      "3\n",
      "1\n"
     ]
    }
   ],
   "source": [
    "fruits = ['apple', 'banana', 'cherry']\n",
    "\n",
    "# Accessing elements\n",
    "print(fruits[0])  # Output: apple\n",
    "\n",
    "# Modifying elements\n",
    "fruits[1] = 'orange'\n",
    "\n",
    "# Adding elements\n",
    "fruits.append('grape')  # Adds 'grape' at the end\n",
    "\n",
    "# Removing elements\n",
    "fruits.remove('apple')  # Removes 'apple'\n",
    "\n",
    "# List methods\n",
    "print(len(fruits))        # Output: 3\n",
    "print(fruits.index('cherry'))  # Output: 1"
   ]
  },
  {
   "cell_type": "code",
   "execution_count": 44,
   "id": "5ec10677-9857-4f6c-9e83-7d8d1f61d870",
   "metadata": {},
   "outputs": [],
   "source": [
    "a_list = [1, 3, 'a', 'b', [1, 3, [1,2,4]]]"
   ]
  },
  {
   "cell_type": "code",
   "execution_count": 45,
   "id": "38042871-c404-415b-816a-ce1aa771179f",
   "metadata": {},
   "outputs": [
    {
     "data": {
      "text/plain": [
       "[1, 2, 4]"
      ]
     },
     "execution_count": 45,
     "metadata": {},
     "output_type": "execute_result"
    }
   ],
   "source": [
    "a_list[-1][-1]"
   ]
  },
  {
   "cell_type": "code",
   "execution_count": null,
   "id": "b53a5e2b-b34c-4c5f-8f3b-200fdbe788bd",
   "metadata": {},
   "outputs": [],
   "source": []
  },
  {
   "cell_type": "markdown",
   "id": "9af905f7-82c5-47d5-a13e-fcfddccad085",
   "metadata": {},
   "source": [
    " ## Dictionaries\n",
    "\n",
    "- Definition: Dictionaries are unordered, mutable collections of key-value pairs. Keys must be unique and immutable (e.g., strings, numbers, tuples).\n",
    "- Syntax: Defined using curly braces {} with key-value pairs separated by colons."
   ]
  },
  {
   "cell_type": "code",
   "execution_count": 49,
   "id": "eeb1c1f4-fae2-4b91-a720-af190ede76d2",
   "metadata": {},
   "outputs": [
    {
     "name": "stdout",
     "output_type": "stream",
     "text": [
      "['Alice', 'Bob', 'Bob']\n",
      "dict_keys(['name', 'age', 'email'])\n",
      "dict_values([['Alice', 'Bob', 'Bob'], 26, 'alice@example.com'])\n"
     ]
    }
   ],
   "source": [
    "# Creating a dictionary\n",
    "person = {'name': ['Alice', 'Bob', 'Bob'], 'age': [24, 56, 13], 'city': 'New York'}\n",
    "\n",
    "# Accessing values\n",
    "print(person['name'])  # Output: Alice\n",
    "\n",
    "# Modifying values\n",
    "person['age'] = 26\n",
    "\n",
    "# Adding new key-value pairs\n",
    "person['email'] = 'alice@example.com'\n",
    "\n",
    "# Removing key-value pairs\n",
    "del person['city']\n",
    "\n",
    "# Dictionary methods\n",
    "print(person.keys())   # Output: dict_keys(['name', 'age', 'email'])\n",
    "print(person.values()) # Output: dict_values(['Alice', 26, 'alice@example.com'])"
   ]
  },
  {
   "cell_type": "code",
   "execution_count": null,
   "id": "3b0bad45-d9b4-49bf-a686-a6b95e11e7e3",
   "metadata": {},
   "outputs": [],
   "source": []
  },
  {
   "cell_type": "code",
   "execution_count": null,
   "id": "b06e197a-2f5f-4a28-a5a4-0f14d7221a3c",
   "metadata": {},
   "outputs": [],
   "source": []
  },
  {
   "cell_type": "markdown",
   "id": "0962f16f-430a-4cd8-a070-8a85edbfc119",
   "metadata": {},
   "source": [
    "## Tuples\n",
    "\n",
    "- Definition: Tuples are ordered, immutable collections that can hold elements of any data type.\n",
    "- Syntax: Defined using parentheses ()."
   ]
  },
  {
   "cell_type": "code",
   "execution_count": null,
   "id": "dfaa9948-d746-4dd8-97db-d545070cc529",
   "metadata": {},
   "outputs": [],
   "source": []
  },
  {
   "cell_type": "markdown",
   "id": "54d64533-1195-4142-bbaf-4a6684c8a2d7",
   "metadata": {},
   "source": [
    "# Lists are mutable"
   ]
  },
  {
   "cell_type": "code",
   "execution_count": 50,
   "id": "3ab97687-5ee0-4e8b-a445-dc2cd55e581e",
   "metadata": {},
   "outputs": [],
   "source": [
    "a = (1, 2, 3)"
   ]
  },
  {
   "cell_type": "code",
   "execution_count": 51,
   "id": "d4ee9cad-f830-4b22-8183-baae43d5c442",
   "metadata": {},
   "outputs": [
    {
     "data": {
      "text/plain": [
       "1"
      ]
     },
     "execution_count": 51,
     "metadata": {},
     "output_type": "execute_result"
    }
   ],
   "source": [
    "a[0]"
   ]
  },
  {
   "cell_type": "code",
   "execution_count": 100,
   "id": "228dd192-ee44-4f0b-a1a1-5aed36bdfe98",
   "metadata": {},
   "outputs": [],
   "source": [
    "list_a = [1, 2, 3, 4]"
   ]
  },
  {
   "cell_type": "code",
   "execution_count": 101,
   "id": "b54672e2-cfa4-400f-8f38-cd20a5c3e455",
   "metadata": {},
   "outputs": [],
   "source": [
    "list_b = list_a"
   ]
  },
  {
   "cell_type": "code",
   "execution_count": 102,
   "id": "ef4a31b4-c587-4f37-aa75-426ce03a5415",
   "metadata": {},
   "outputs": [],
   "source": [
    "list_b.append(5)"
   ]
  },
  {
   "cell_type": "code",
   "execution_count": 103,
   "id": "95f6e941-1ea2-4be7-86cf-b34502ea6a67",
   "metadata": {},
   "outputs": [
    {
     "data": {
      "text/plain": [
       "[1, 2, 3, 4, 5]"
      ]
     },
     "execution_count": 103,
     "metadata": {},
     "output_type": "execute_result"
    }
   ],
   "source": [
    "list_a"
   ]
  },
  {
   "cell_type": "markdown",
   "id": "afe2a788-01c6-414d-a811-e0c91ce097ba",
   "metadata": {},
   "source": [
    "# Tupples are immutable"
   ]
  },
  {
   "cell_type": "code",
   "execution_count": null,
   "id": "f0582b12-5524-465c-a898-2c9f51a7b5a8",
   "metadata": {},
   "outputs": [],
   "source": []
  },
  {
   "cell_type": "code",
   "execution_count": 104,
   "id": "0767399d-72c7-4b42-857b-742d7f20a083",
   "metadata": {},
   "outputs": [],
   "source": [
    "tuple_a = (1, 2, 3)"
   ]
  },
  {
   "cell_type": "code",
   "execution_count": 105,
   "id": "de6dab5a-c2a8-44ab-a30c-e613838e1d4b",
   "metadata": {},
   "outputs": [],
   "source": [
    "tuple_b = tuple_a"
   ]
  },
  {
   "cell_type": "code",
   "execution_count": 107,
   "id": "e342a90c-0b46-4571-8fe9-53e19a6635c8",
   "metadata": {},
   "outputs": [
    {
     "data": {
      "text/plain": [
       "(1, 2, 3, 4)"
      ]
     },
     "execution_count": 107,
     "metadata": {},
     "output_type": "execute_result"
    }
   ],
   "source": [
    "tuple_b + (4,)"
   ]
  },
  {
   "cell_type": "code",
   "execution_count": 108,
   "id": "1cf136dc-bf97-479d-a2cf-43279fa578ab",
   "metadata": {},
   "outputs": [
    {
     "data": {
      "text/plain": [
       "(1, 2, 3)"
      ]
     },
     "execution_count": 108,
     "metadata": {},
     "output_type": "execute_result"
    }
   ],
   "source": [
    "tuple_a"
   ]
  },
  {
   "cell_type": "code",
   "execution_count": null,
   "id": "3d2eead0-634d-4a01-81b7-9afe8a0d2590",
   "metadata": {},
   "outputs": [],
   "source": []
  },
  {
   "cell_type": "code",
   "execution_count": null,
   "id": "0a3b25e0-3d11-4f01-836e-cb256c5634f0",
   "metadata": {},
   "outputs": [],
   "source": []
  },
  {
   "cell_type": "code",
   "execution_count": 114,
   "id": "7a864d75-6288-4b32-908f-9f9038c59909",
   "metadata": {},
   "outputs": [
    {
     "name": "stdout",
     "output_type": "stream",
     "text": [
      "1 2 3 4 5\n"
     ]
    }
   ],
   "source": [
    "print(*list_a)"
   ]
  },
  {
   "cell_type": "code",
   "execution_count": null,
   "id": "745ab2de-d74a-4126-bf65-a50ad114b55c",
   "metadata": {},
   "outputs": [],
   "source": []
  },
  {
   "cell_type": "code",
   "execution_count": null,
   "id": "8e809291-194b-44f9-b254-5ebce3e2634e",
   "metadata": {},
   "outputs": [],
   "source": []
  },
  {
   "cell_type": "code",
   "execution_count": null,
   "id": "29783132-602b-4d94-aa2a-4dfc4a33eb83",
   "metadata": {},
   "outputs": [],
   "source": []
  },
  {
   "cell_type": "code",
   "execution_count": 116,
   "id": "8cb8ca61-bd94-419c-94c9-2b9766657797",
   "metadata": {},
   "outputs": [
    {
     "ename": "SyntaxError",
     "evalue": "invalid syntax (1715745530.py, line 1)",
     "output_type": "error",
     "traceback": [
      "\u001b[0;36m  Cell \u001b[0;32mIn[116], line 1\u001b[0;36m\u001b[0m\n\u001b[0;31m    **person\u001b[0m\n\u001b[0m    ^\u001b[0m\n\u001b[0;31mSyntaxError\u001b[0m\u001b[0;31m:\u001b[0m invalid syntax\n"
     ]
    }
   ],
   "source": []
  },
  {
   "cell_type": "code",
   "execution_count": null,
   "id": "13b74256-3020-46b2-8fb3-72fea9186f40",
   "metadata": {},
   "outputs": [],
   "source": []
  },
  {
   "cell_type": "code",
   "execution_count": null,
   "id": "b513b89e-fbdc-4af3-b683-52d873111964",
   "metadata": {},
   "outputs": [],
   "source": []
  },
  {
   "cell_type": "markdown",
   "id": "35d8fdf8-2bcc-43c8-87f8-bc005776e8d3",
   "metadata": {},
   "source": [
    "## Python Functions\n",
    "\n",
    "This tutorial covers defining and calling functions, using default and keyword arguments, working with variable-length arguments (`*args` and `**kwargs`), and lambda functions in Python.\n",
    "\n",
    "### 1. **Defining and Calling Functions**\n",
    "\n",
    "- **Defining a Function**: Use the `def` keyword followed by the function name and parentheses. Define the function body with indentation.\n",
    "\n",
    "```python\n",
    "def greet(name):\n",
    "    \"\"\"Print a greeting message.\"\"\"\n",
    "    print(f\"Hello, {name}!\")"
   ]
  },
  {
   "cell_type": "code",
   "execution_count": null,
   "id": "4e8f53c6-d386-42eb-bc2a-aeb88967f7fa",
   "metadata": {},
   "outputs": [],
   "source": []
  },
  {
   "cell_type": "code",
   "execution_count": 40,
   "id": "6ef010ab-5fcd-46e5-8785-4e2c34f03329",
   "metadata": {},
   "outputs": [],
   "source": [
    "def greeting(name):\n",
    "    print(\"Hello \" + name)"
   ]
  },
  {
   "cell_type": "code",
   "execution_count": 41,
   "id": "2a3d7978-a0b1-470b-8dae-43c91bd64f5f",
   "metadata": {},
   "outputs": [
    {
     "name": "stdout",
     "output_type": "stream",
     "text": [
      "Hello ali\n"
     ]
    }
   ],
   "source": [
    "greeting('ali')"
   ]
  },
  {
   "cell_type": "code",
   "execution_count": null,
   "id": "da0d233d-ca24-4413-ab2c-caceb7f335d0",
   "metadata": {},
   "outputs": [],
   "source": []
  },
  {
   "cell_type": "code",
   "execution_count": null,
   "id": "4e92b0a5-8431-4dd2-a235-7cb7795fd920",
   "metadata": {},
   "outputs": [],
   "source": []
  },
  {
   "cell_type": "code",
   "execution_count": null,
   "id": "b793de72-ce27-42ae-9302-ee1a062a7b69",
   "metadata": {},
   "outputs": [],
   "source": []
  },
  {
   "cell_type": "markdown",
   "id": "6aa71ad2-79f8-41dc-a174-d136885909d0",
   "metadata": {},
   "source": [
    "**Return Values:** Use the return statement to return a value from the function."
   ]
  },
  {
   "cell_type": "code",
   "execution_count": null,
   "id": "cad68d55-0a3f-489b-88cd-820384244417",
   "metadata": {},
   "outputs": [],
   "source": [
    "def add(a, b):\n",
    "    return a + b\n",
    "\n",
    "result = add(3, 4)  # result is 7"
   ]
  },
  {
   "cell_type": "code",
   "execution_count": null,
   "id": "016c4f77-8d2d-40ca-a8ab-5ce36971fed9",
   "metadata": {},
   "outputs": [],
   "source": []
  },
  {
   "cell_type": "code",
   "execution_count": null,
   "id": "2fbd7b46-2ede-45a8-9503-886ad8a85cea",
   "metadata": {},
   "outputs": [],
   "source": []
  },
  {
   "cell_type": "code",
   "execution_count": null,
   "id": "7ea9bc48-02d7-436a-b250-d4c885629274",
   "metadata": {},
   "outputs": [],
   "source": []
  },
  {
   "cell_type": "markdown",
   "id": "4e5697ad-c072-453b-8943-c5ec68fec89d",
   "metadata": {},
   "source": [
    "# Default and Keyword Arguments\n",
    "\n",
    "- Default Arguments: Specify default values for parameters in the function definition. If the argument is not provided when calling the function, the default value is used."
   ]
  },
  {
   "cell_type": "code",
   "execution_count": 46,
   "id": "cdff7869-ee7f-4c76-93a8-20e130e8d524",
   "metadata": {},
   "outputs": [
    {
     "name": "stdout",
     "output_type": "stream",
     "text": [
      "Hello, Bob!\n",
      "Goodbye, Bob!\n"
     ]
    }
   ],
   "source": [
    "def greet(name, message=\"Hello\"):\n",
    "    print(f\"{message}, {name}!\")\n",
    "\n",
    "greet(\"Bob\")             \n",
    "greet(\"Bob\", \"Goodbye\") "
   ]
  },
  {
   "cell_type": "code",
   "execution_count": null,
   "id": "59347cfe-bbea-4b91-b876-0e3d38ed9aca",
   "metadata": {},
   "outputs": [],
   "source": []
  },
  {
   "cell_type": "markdown",
   "id": "1e133d53-0e38-4dad-a073-9d1d5e53ffb6",
   "metadata": {},
   "source": [
    "**Keyword Arguments:** Pass arguments using the parameter names, allowing you to specify arguments in any order."
   ]
  },
  {
   "cell_type": "code",
   "execution_count": 48,
   "id": "bda166c5-347b-4046-983b-cea8061196b0",
   "metadata": {},
   "outputs": [
    {
     "name": "stdout",
     "output_type": "stream",
     "text": [
      "I have a dog named Buddy.\n"
     ]
    }
   ],
   "source": [
    "def describe_pet(animal_type, pet_name):\n",
    "    print(f\"I have a {animal_type} named {pet_name}.\")\n",
    "\n",
    "describe_pet(pet_name=\"Buddy\", animal_type=\"dog\")\n",
    "# Output: I have a dog named Buddy."
   ]
  },
  {
   "cell_type": "code",
   "execution_count": null,
   "id": "86ede38e-6165-47b7-9285-76479d0dea34",
   "metadata": {},
   "outputs": [],
   "source": []
  },
  {
   "cell_type": "code",
   "execution_count": null,
   "id": "0ea07d12-dcef-4af2-9eec-a1a2becf5215",
   "metadata": {},
   "outputs": [],
   "source": []
  },
  {
   "cell_type": "markdown",
   "id": "dcba2747-8e38-48cb-8fb4-a5ef0b11bfc1",
   "metadata": {},
   "source": [
    "## Variable-Length Arguments (*args and **kwargs)\n",
    "\n",
    "- *args (Non-Keyword Variable Arguments): Use *args to pass a variable number of arguments to a function. Inside the function, args is a tuple of arguments."
   ]
  },
  {
   "cell_type": "code",
   "execution_count": 59,
   "id": "73225fd3-cc74-4ae3-93dc-54f6a8f802a7",
   "metadata": {},
   "outputs": [
    {
     "name": "stdout",
     "output_type": "stream",
     "text": [
      "10\n"
     ]
    }
   ],
   "source": [
    "def sum_all(*args):\n",
    "    return sum(args)\n",
    "\n",
    "print(sum_all(1, 2, 3, 4))  # Output: 10"
   ]
  },
  {
   "cell_type": "code",
   "execution_count": null,
   "id": "342a709e-38ec-4173-a0d0-d74dec1d25eb",
   "metadata": {},
   "outputs": [],
   "source": []
  },
  {
   "cell_type": "code",
   "execution_count": null,
   "id": "d640fe0b-5037-430a-8c9a-b54a1869bef0",
   "metadata": {},
   "outputs": [],
   "source": []
  },
  {
   "cell_type": "code",
   "execution_count": null,
   "id": "41cdd30e-5b11-4cbf-9ddd-2b80116fdab7",
   "metadata": {},
   "outputs": [],
   "source": [
    "    "
   ]
  },
  {
   "cell_type": "code",
   "execution_count": 64,
   "id": "0a2e9392-7922-45bc-aafa-222749f555ae",
   "metadata": {},
   "outputs": [
    {
     "name": "stdout",
     "output_type": "stream",
     "text": [
      "1\n"
     ]
    }
   ],
   "source": [
    "def sum_all(*args):\n",
    "    return args[0]\n",
    "\n",
    "print(sum_all(1, 2, 3, 4, 1)  # Output: 10"
   ]
  },
  {
   "cell_type": "code",
   "execution_count": 52,
   "id": "3771152f-4034-4156-a2d9-c07034be446e",
   "metadata": {},
   "outputs": [
    {
     "name": "stdout",
     "output_type": "stream",
     "text": [
      "1 2 4\n"
     ]
    }
   ],
   "source": []
  },
  {
   "cell_type": "markdown",
   "id": "536cc5ff-54b3-4d91-ade3-ce5cbf3b86b6",
   "metadata": {},
   "source": [
    "****kwargs** (Keyword Variable Arguments): Use **kwargs to accept a variable number of keyword arguments. Inside the function, kwargs is a dictionary of arguments."
   ]
  },
  {
   "cell_type": "code",
   "execution_count": 66,
   "id": "0186d86c-ad6b-4a9d-b0ce-4ac3a2541029",
   "metadata": {},
   "outputs": [
    {
     "name": "stdout",
     "output_type": "stream",
     "text": [
      "name: Alice\n",
      "age: 25\n",
      "city: New York\n"
     ]
    }
   ],
   "source": [
    "def print_info(**kwargs):\n",
    "    for key, value in kwargs.items():\n",
    "        print(f\"{key}: {value}\")\n",
    "\n",
    "print_info(name=\"Alice\", age=25, city=\"New York\")\n",
    "# Output:\n",
    "# name: Alice\n",
    "# age: 25\n",
    "# city: New York"
   ]
  },
  {
   "cell_type": "code",
   "execution_count": null,
   "id": "160d3def-c444-4c6e-8dda-2976b0c5e862",
   "metadata": {},
   "outputs": [],
   "source": []
  },
  {
   "cell_type": "markdown",
   "id": "7bf9d122-1d45-4d43-8d3c-b538176e050f",
   "metadata": {},
   "source": [
    "**Combining** *args and **kwargs: You can use both in the same function definition. *args must come before **kwargs."
   ]
  },
  {
   "cell_type": "code",
   "execution_count": 69,
   "id": "80146318-637d-4b91-b849-5bd9d32f9ba7",
   "metadata": {},
   "outputs": [
    {
     "name": "stdout",
     "output_type": "stream",
     "text": [
      "arg1: 10\n",
      "args: (20, 30)\n",
      "kwargs: {'name': 'Bob', 'age': 22}\n"
     ]
    }
   ],
   "source": [
    "def func_with_args_kwargs(arg1, *args, **kwargs):\n",
    "    print(f\"arg1: {arg1}\")\n",
    "    print(f\"args: {args}\")\n",
    "    print(f\"kwargs: {kwargs}\")\n",
    "\n",
    "func_with_args_kwargs(10, 20, 30, name=\"Bob\", age=22)\n",
    "# Output:\n",
    "# arg1: 10\n",
    "# args: (20, 30)\n",
    "# kwargs: {'name': 'Bob', 'age': 22}"
   ]
  },
  {
   "cell_type": "code",
   "execution_count": null,
   "id": "b7e54057-db68-426f-afb7-94d5052e7899",
   "metadata": {},
   "outputs": [],
   "source": []
  },
  {
   "cell_type": "code",
   "execution_count": null,
   "id": "4be876b0-cfb3-474f-96d0-83b06fec971d",
   "metadata": {},
   "outputs": [],
   "source": []
  },
  {
   "cell_type": "code",
   "execution_count": null,
   "id": "e9415ea0-e134-4327-a83e-8865de6b58ae",
   "metadata": {},
   "outputs": [],
   "source": []
  },
  {
   "cell_type": "markdown",
   "id": "bea3d255-6a9c-4f21-8463-8ab6af50dba0",
   "metadata": {},
   "source": [
    "## Lambda Functions\n",
    "\n",
    "Lambda Functions: Lambda functions are small, anonymous functions defined with the lambda keyword. They can take any number of arguments but have a single expression."
   ]
  },
  {
   "cell_type": "code",
   "execution_count": 72,
   "id": "df11cfdd-cd82-44a1-8484-b1a25479adac",
   "metadata": {},
   "outputs": [
    {
     "name": "stdout",
     "output_type": "stream",
     "text": [
      "8\n"
     ]
    }
   ],
   "source": [
    "# Lambda function for adding two numbers\n",
    "add = lambda x, y:  x + y\n",
    "print(add(5, 3))  # Output: 8"
   ]
  },
  {
   "cell_type": "code",
   "execution_count": 75,
   "id": "b1966fc7-f82a-4755-839d-86d178b44bbc",
   "metadata": {},
   "outputs": [
    {
     "data": {
      "text/plain": [
       "3"
      ]
     },
     "execution_count": 75,
     "metadata": {},
     "output_type": "execute_result"
    }
   ],
   "source": [
    "add_list = lambda x: sum(x)\n",
    "addList([1,2])"
   ]
  },
  {
   "cell_type": "code",
   "execution_count": 84,
   "id": "36300888-361b-4919-9dda-92bcd4689676",
   "metadata": {},
   "outputs": [],
   "source": [
    "append_x = lambda x: print([ a+1 for a in x][0])"
   ]
  },
  {
   "cell_type": "code",
   "execution_count": 86,
   "id": "41989cf1-a044-402f-a688-0b3ad0accde8",
   "metadata": {},
   "outputs": [
    {
     "name": "stdout",
     "output_type": "stream",
     "text": [
      "2\n"
     ]
    }
   ],
   "source": [
    "append_x([1, 2])"
   ]
  },
  {
   "cell_type": "code",
   "execution_count": null,
   "id": "5cd40d4e-d412-48b3-931b-bacd390b38c1",
   "metadata": {},
   "outputs": [],
   "source": []
  },
  {
   "cell_type": "markdown",
   "id": "417073db-0225-4f8d-b8a5-638ef1f03f0b",
   "metadata": {},
   "source": [
    "**Use Cases:** Commonly used for short, simple functions that are passed as arguments to higher-order functions like map(), filter(), and sorted()."
   ]
  },
  {
   "cell_type": "code",
   "execution_count": 88,
   "id": "a6e10adc-f0e1-4141-99ae-c2125fe7f254",
   "metadata": {},
   "outputs": [
    {
     "name": "stdout",
     "output_type": "stream",
     "text": [
      "[(5, -1), (0, 0), (3, 1), (1, 2)]\n"
     ]
    }
   ],
   "source": [
    "# Using lambda with sorted()\n",
    "points = [(1, 2), (3, 1), (5, -1), (0, 0)]\n",
    "sorted_points = sorted(points, key=lambda point: point[1])\n",
    "print(sorted_points)  # Output: [(5, -1), (0, 0), (3, 1), (1, 2)]"
   ]
  },
  {
   "cell_type": "code",
   "execution_count": null,
   "id": "c99fbf07-ae51-447e-80da-bd7f8963b778",
   "metadata": {},
   "outputs": [],
   "source": []
  },
  {
   "cell_type": "code",
   "execution_count": null,
   "id": "663b87be-f0fa-4254-a2b4-ec28f57166be",
   "metadata": {},
   "outputs": [],
   "source": []
  },
  {
   "cell_type": "markdown",
   "id": "8ae1304f-61b1-4fb1-96e7-1f673448fb67",
   "metadata": {},
   "source": [
    "## Python Control Flow Tutorial\n",
    "\n",
    "This tutorial covers the basics of control flow in Python, including conditional statements, loops, and loop control statements.\n",
    "\n",
    "### 1. **Conditional Statements (`if`, `elif`, `else`)**\n",
    "\n",
    "Conditional statements allow you to execute code based on certain conditions.\n",
    "\n",
    "**Syntax:**\n",
    "```python\n",
    "if condition:\n",
    "    # Code block executed if the condition is True\n",
    "elif another_condition:\n",
    "    # Code block executed if the previous condition is False and this condition is True\n",
    "else:\n",
    "    # Code block executed if all the above conditions are False"
   ]
  },
  {
   "cell_type": "code",
   "execution_count": 1,
   "id": "60aa0447-2394-4ac1-8a25-e8f02a6754a1",
   "metadata": {},
   "outputs": [
    {
     "name": "stdout",
     "output_type": "stream",
     "text": [
      "x is exactly 10\n"
     ]
    }
   ],
   "source": [
    "x = 10\n",
    "\n",
    "if x > 15:\n",
    "    print(\"x is greater than 15\")\n",
    "elif x == 10:\n",
    "    print(\"x is exactly 10\")\n",
    "else:\n",
    "    print(\"x is less than 10\")\n",
    "# Output: x is exactly 10"
   ]
  },
  {
   "cell_type": "markdown",
   "id": "a3318893-d457-44da-b962-d280e4a0fbe4",
   "metadata": {},
   "source": [
    "## Loops (for, while) and range()\n",
    "\n",
    "Loops allow you to repeat a block of code multiple times.\n",
    "\n",
    "**for Loop:**\n",
    "\n",
    "- Used for iterating over a sequence (like a list, tuple, dictionary, set, or string).\n",
    "\n",
    "**Java example of a loop**\n",
    "```java\n",
    "for(int i=0; i<10; i++)"
   ]
  },
  {
   "cell_type": "code",
   "execution_count": null,
   "id": "f8137de2-384a-4301-b58e-87c30dad8fb3",
   "metadata": {},
   "outputs": [],
   "source": []
  },
  {
   "cell_type": "code",
   "execution_count": null,
   "id": "dddad943-84c1-486e-a970-3f2178538294",
   "metadata": {},
   "outputs": [],
   "source": []
  },
  {
   "cell_type": "code",
   "execution_count": null,
   "id": "2bcf11fa-9c38-4984-9d8d-bdf512f100bb",
   "metadata": {},
   "outputs": [],
   "source": []
  },
  {
   "cell_type": "code",
   "execution_count": 18,
   "id": "7408bc60-ff09-4ba7-b0cd-3dcd23326f38",
   "metadata": {},
   "outputs": [],
   "source": [
    "#Python "
   ]
  },
  {
   "cell_type": "code",
   "execution_count": 2,
   "id": "6ff51c88-e6aa-47b6-9136-782252d812ca",
   "metadata": {},
   "outputs": [
    {
     "name": "stdout",
     "output_type": "stream",
     "text": [
      "apple\n",
      "banana\n",
      "cherry\n"
     ]
    }
   ],
   "source": [
    "fruits = ['apple', 'banana', 'cherry']\n",
    "\n",
    "for fruit in fruits:\n",
    "    print(fruit)\n",
    "# Output:\n",
    "# apple\n",
    "# banana\n",
    "# cherry"
   ]
  },
  {
   "cell_type": "code",
   "execution_count": 6,
   "id": "d245f1ed-c7ab-44b2-9169-56ddf329e4a0",
   "metadata": {},
   "outputs": [
    {
     "name": "stdout",
     "output_type": "stream",
     "text": [
      "0 apple\n",
      "1 banana\n",
      "2 cherry\n"
     ]
    }
   ],
   "source": [
    "fruits = ['apple', 'banana', 'cherry']\n",
    "\n",
    "for index, fruit in enumerate(fruits):\n",
    "    print(index, fruit)\n",
    "# Output:\n",
    "# apple\n",
    "# banana\n",
    "# cherry"
   ]
  },
  {
   "cell_type": "code",
   "execution_count": null,
   "id": "373af706-3c13-4bbd-8e63-2a395592c23b",
   "metadata": {},
   "outputs": [],
   "source": []
  },
  {
   "cell_type": "code",
   "execution_count": null,
   "id": "1f0ea41b-e86e-402c-874d-649ad5c5317e",
   "metadata": {},
   "outputs": [],
   "source": []
  },
  {
   "cell_type": "code",
   "execution_count": 8,
   "id": "b104e6b4-65ba-4b5d-8b11-73b73e1dc99f",
   "metadata": {},
   "outputs": [
    {
     "name": "stdout",
     "output_type": "stream",
     "text": [
      "0\n",
      "1\n",
      "2\n",
      "3\n",
      "4\n"
     ]
    }
   ],
   "source": [
    "for i in range(5):\n",
    "    print(i)\n",
    "# Output:\n",
    "# 0\n",
    "# 1\n",
    "# 2\n",
    "# 3\n",
    "# 4"
   ]
  },
  {
   "cell_type": "code",
   "execution_count": null,
   "id": "316d9a3d-b959-43c8-a7b5-97edd3644338",
   "metadata": {},
   "outputs": [],
   "source": []
  },
  {
   "cell_type": "code",
   "execution_count": 11,
   "id": "7c8bd944-a800-452c-9a65-f15b0850f47e",
   "metadata": {},
   "outputs": [
    {
     "name": "stdout",
     "output_type": "stream",
     "text": [
      "0 1 2 3 4 5 6 7 8 9\n"
     ]
    }
   ],
   "source": [
    "print(*range(10))"
   ]
  },
  {
   "cell_type": "code",
   "execution_count": null,
   "id": "bd3d99b8-50e8-4041-a8be-49518f21f0cb",
   "metadata": {},
   "outputs": [],
   "source": []
  },
  {
   "cell_type": "code",
   "execution_count": null,
   "id": "4ba16878-c984-4de2-a5f4-60247e851444",
   "metadata": {},
   "outputs": [],
   "source": []
  },
  {
   "cell_type": "code",
   "execution_count": null,
   "id": "811192b5-c8e1-4844-a36c-924de5fc6664",
   "metadata": {},
   "outputs": [],
   "source": []
  },
  {
   "cell_type": "code",
   "execution_count": null,
   "id": "326860c1-c3af-46fc-b332-267f0dea2a7e",
   "metadata": {},
   "outputs": [],
   "source": []
  },
  {
   "cell_type": "code",
   "execution_count": 14,
   "id": "14f5defd-4f04-4a7e-887d-9fbecb1697a4",
   "metadata": {},
   "outputs": [
    {
     "name": "stdout",
     "output_type": "stream",
     "text": [
      "0\n",
      "2\n",
      "4\n",
      "6\n",
      "8\n",
      "10\n"
     ]
    }
   ],
   "source": [
    "def even_numbers(limit):\n",
    "    \"\"\"A simple generator that yields even numbers up to a given limit.\"\"\"\n",
    "    num = 0\n",
    "    while num <= limit:\n",
    "        yield num\n",
    "        num += 2\n",
    "\n",
    "# Using the generator\n",
    "for even in even_numbers(10):\n",
    "    print(even)"
   ]
  },
  {
   "cell_type": "code",
   "execution_count": null,
   "id": "d41a7ce5-58c3-4f56-aa74-1ca061fecafa",
   "metadata": {},
   "outputs": [],
   "source": []
  },
  {
   "cell_type": "code",
   "execution_count": null,
   "id": "990b59c3-834c-4208-8375-285bf30af64e",
   "metadata": {},
   "outputs": [],
   "source": []
  },
  {
   "cell_type": "code",
   "execution_count": null,
   "id": "cc653df9-b252-4931-830e-7cd9be3bc786",
   "metadata": {},
   "outputs": [],
   "source": []
  },
  {
   "cell_type": "code",
   "execution_count": 15,
   "id": "611bb29d-0b39-42f2-bc9a-beda52a669fd",
   "metadata": {},
   "outputs": [
    {
     "name": "stdout",
     "output_type": "stream",
     "text": [
      "1\n",
      "2\n",
      "3\n",
      "4\n"
     ]
    }
   ],
   "source": [
    "# An iterable: a list\n",
    "my_list = [1, 2, 3, 4]\n",
    "\n",
    "# Getting an iterator from the iterable\n",
    "my_iterator = iter(my_list)\n",
    "\n",
    "# Using the iterator to access elements one at a time\n",
    "print(next(my_iterator))  # Output: 1\n",
    "print(next(my_iterator))  # Output: 2\n",
    "print(next(my_iterator))  # Output: 3\n",
    "print(next(my_iterator))  # Output: 4\n",
    "\n",
    "# If you call next() again, it will raise a StopIteration exception\n",
    "# because there are no more items to return."
   ]
  },
  {
   "cell_type": "code",
   "execution_count": null,
   "id": "5dc49fe6-99fe-4561-973d-3106c6d2899c",
   "metadata": {},
   "outputs": [],
   "source": []
  },
  {
   "cell_type": "code",
   "execution_count": null,
   "id": "13f2d2db-2d6c-47c8-9665-62085b58408a",
   "metadata": {},
   "outputs": [],
   "source": []
  },
  {
   "cell_type": "code",
   "execution_count": null,
   "id": "f5959e29-0126-4309-b1ab-d4a47897d2bc",
   "metadata": {},
   "outputs": [],
   "source": []
  },
  {
   "cell_type": "code",
   "execution_count": 17,
   "id": "3225b160-393e-48f0-b450-fec0f617587b",
   "metadata": {},
   "outputs": [
    {
     "name": "stdout",
     "output_type": "stream",
     "text": [
      "3\n",
      "2\n",
      "1\n"
     ]
    }
   ],
   "source": [
    "class Countdown:\n",
    "    def __init__(self, start):\n",
    "        self.current = start\n",
    "\n",
    "    def __iter__(self):\n",
    "        return self\n",
    "\n",
    "    def __next__(self):\n",
    "        if self.current <= 0:\n",
    "            raise StopIteration\n",
    "        else:\n",
    "            self.current -= 1\n",
    "            return self.current + 1\n",
    "\n",
    "# Using the custom iterator\n",
    "countdown = Countdown(3)\n",
    "for number in countdown:\n",
    "    print(number)\n",
    "\n",
    "# Output:\n",
    "# 3\n",
    "# 2\n",
    "# 1"
   ]
  },
  {
   "cell_type": "code",
   "execution_count": null,
   "id": "94d61541-9b1a-460f-a09e-17785e4ccfc0",
   "metadata": {},
   "outputs": [],
   "source": []
  },
  {
   "cell_type": "code",
   "execution_count": null,
   "id": "9986cddd-b162-4dc2-9738-9d2d1ea5f6b0",
   "metadata": {},
   "outputs": [],
   "source": []
  },
  {
   "cell_type": "code",
   "execution_count": null,
   "id": "41600b9f-ffa3-4be7-8c97-f391de7bb6ef",
   "metadata": {},
   "outputs": [],
   "source": []
  },
  {
   "cell_type": "code",
   "execution_count": null,
   "id": "68831e3a-7891-4dfa-bc0e-65d9a2facfb8",
   "metadata": {},
   "outputs": [],
   "source": []
  },
  {
   "cell_type": "markdown",
   "id": "e1eaa0de-72bd-4ed3-9f0b-b072b0b6d49a",
   "metadata": {},
   "source": [
    "**while Loop:**\n",
    "\n",
    "- Repeats a block of code as long as the condition is True."
   ]
  },
  {
   "cell_type": "code",
   "execution_count": 7,
   "id": "c627bdbb-c2b1-46c9-8841-f321d95a3acf",
   "metadata": {},
   "outputs": [
    {
     "name": "stdout",
     "output_type": "stream",
     "text": [
      "0\n",
      "1\n",
      "2\n",
      "3\n",
      "4\n"
     ]
    }
   ],
   "source": [
    "count = 0\n",
    "\n",
    "while count < 5:\n",
    "    print(count)\n",
    "    count += 1\n",
    "# Output:\n",
    "# 0\n",
    "# 1\n",
    "# 2\n",
    "# 3\n",
    "# 4"
   ]
  },
  {
   "cell_type": "code",
   "execution_count": null,
   "id": "6c3e4a19-2f9f-4fc5-a024-f28e9bdc9e40",
   "metadata": {},
   "outputs": [],
   "source": []
  },
  {
   "cell_type": "markdown",
   "id": "04d1f052-6cfb-4582-89da-d43117ba66a2",
   "metadata": {},
   "source": [
    "## Loop Control Statements (break, continue, pass)\n",
    "\n",
    "Loop control statements alter the normal flow of a loop.\n",
    "\n",
    "**break:**\n",
    "\n",
    "- Exits the loop immediately, skipping the remaining iterations."
   ]
  },
  {
   "cell_type": "code",
   "execution_count": 19,
   "id": "0cc3b69a-2849-4939-96c2-66960500a37f",
   "metadata": {},
   "outputs": [
    {
     "name": "stdout",
     "output_type": "stream",
     "text": [
      "0\n",
      "1\n",
      "2\n"
     ]
    }
   ],
   "source": [
    "for i in range(5):\n",
    "    if i == 3:\n",
    "        break\n",
    "    print(i)\n",
    "# Output:\n",
    "# 0\n",
    "# 1\n",
    "# 2"
   ]
  },
  {
   "cell_type": "code",
   "execution_count": null,
   "id": "17758e79-24b7-4933-8e74-84e93447de2c",
   "metadata": {},
   "outputs": [],
   "source": [
    "#Continue"
   ]
  },
  {
   "cell_type": "code",
   "execution_count": 20,
   "id": "2de3aa5e-9082-42be-b27b-8f6542c29179",
   "metadata": {},
   "outputs": [
    {
     "name": "stdout",
     "output_type": "stream",
     "text": [
      "0\n",
      "1\n",
      "2\n",
      "4\n"
     ]
    }
   ],
   "source": [
    "for i in range(5):\n",
    "    if i == 3:\n",
    "        continue\n",
    "    print(i)\n",
    "# Output:\n",
    "# 0\n",
    "# 1\n",
    "# 2\n",
    "# 4"
   ]
  },
  {
   "cell_type": "code",
   "execution_count": null,
   "id": "784a324b-438e-4b56-aa2a-078e1717d3ed",
   "metadata": {},
   "outputs": [],
   "source": [
    "#pass: A null operation; it does nothing and is used as a placeholder."
   ]
  },
  {
   "cell_type": "code",
   "execution_count": 21,
   "id": "35da9716-7bbf-47e6-9931-c41c04a46a5b",
   "metadata": {},
   "outputs": [
    {
     "name": "stdout",
     "output_type": "stream",
     "text": [
      "0\n",
      "1\n",
      "2\n",
      "3\n",
      "4\n"
     ]
    }
   ],
   "source": [
    "for i in range(5):\n",
    "    if i == 3:\n",
    "        pass  # Placeholder, does nothing\n",
    "    print(i)\n",
    "# Output:\n",
    "# 0\n",
    "# 1\n",
    "# 2\n",
    "# 3\n",
    "# 4"
   ]
  },
  {
   "cell_type": "code",
   "execution_count": null,
   "id": "2d807b39-c58c-4079-bafe-fce5a5088ae9",
   "metadata": {},
   "outputs": [],
   "source": []
  },
  {
   "cell_type": "code",
   "execution_count": null,
   "id": "dd4aa25f-fdfb-4646-953c-f86ab161b7ff",
   "metadata": {},
   "outputs": [],
   "source": []
  },
  {
   "cell_type": "code",
   "execution_count": null,
   "id": "5160b71d-3f6d-45b4-a4f1-801108f23b8f",
   "metadata": {},
   "outputs": [],
   "source": []
  }
 ],
 "metadata": {
  "kernelspec": {
   "display_name": "Python 3 (ipykernel)",
   "language": "python",
   "name": "python3"
  },
  "language_info": {
   "codemirror_mode": {
    "name": "ipython",
    "version": 3
   },
   "file_extension": ".py",
   "mimetype": "text/x-python",
   "name": "python",
   "nbconvert_exporter": "python",
   "pygments_lexer": "ipython3",
   "version": "3.11.7"
  }
 },
 "nbformat": 4,
 "nbformat_minor": 5
}
